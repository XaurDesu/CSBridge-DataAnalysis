{
 "cells": [
  {
   "cell_type": "code",
   "execution_count": 211,
   "metadata": {},
   "outputs": [],
   "source": [
    "#imports\n",
    "import pandas as pd\n",
    "import numpy as np\n",
    "import panel as pn\n",
    "\n",
    "from statistics import mean\n",
    "from bokeh.transform import factor_cmap\n",
    "from bokeh.models import ColumnDataSource, FactorRange\n",
    "from bokeh.palettes import Category20c\n",
    "from bokeh.plotting import figure, show\n",
    "\n",
    "from fractions import Fraction\n",
    "\n",
    "#data gathering\n",
    "notes = pd.read_excel('../data/all_sections_notes.xlsx')\n",
    "student_data = pd.read_excel('../data/student_information_filtered.xlsx')\n"
   ]
  },
  {
   "cell_type": "code",
   "execution_count": 212,
   "metadata": {},
   "outputs": [
    {
     "data": {
      "text/plain": [
       "Index(['NUMERO', 'CSBRIDGE SEC', 'ESTUDIANTE', 'Asistió', 'DOCUMENTO ',\n",
       "       'GENERO', 'COLEGIO', 'GRADO', 'EMAIL ESTUDIANTE', 'CORREO ACUDIENTE',\n",
       "       'ESPAÑOL', 'MATEMATICAS', 'PROMEDIO NOTAS', 'ESCALA', 'PUNTAJE',\n",
       "       'RESULTADO', 'EMAIL CONFIRMACION '],\n",
       "      dtype='object')"
      ]
     },
     "execution_count": 212,
     "metadata": {},
     "output_type": "execute_result"
    }
   ],
   "source": [
    "#Student Data filtering\n",
    "\n",
    "student_data = student_data[student_data['NUMERO'].notna()]\n",
    "student_data.drop(columns={'EPS', 'Comentarios','Falta por consentimiento'}, axis=1, inplace=True)\n",
    "student_data['DOCUMENTO '] = pd.to_numeric(student_data['DOCUMENTO '])\n",
    "student_data.columns"
   ]
  },
  {
   "cell_type": "code",
   "execution_count": 213,
   "metadata": {},
   "outputs": [],
   "source": [
    "#We rename the columns to make them easier to work with\n",
    "notes.rename(columns={\n",
    "    #WEEK 1\n",
    "    'OrgDefinedId':'user',\n",
    "    'Secciones':'sec',\n",
    "    'Entrega de la mañana D1 Points Grade <Numérico Puntos máx.:5 Categoría:Semana 1\\Week1>':'1AM',\n",
    "    'Entrega de la tarde D1 Points Grade <Numérico Puntos máx.:5 Categoría:Semana 1\\Week1>':'1PM',\n",
    "    'Entrega de la mañana (D2) Points Grade <Numérico Puntos máx.:5 Categoría:Semana 1\\Week1>':'2AM',\n",
    "    'Entrega de la tarde (D2) Points Grade <Numérico Puntos máx.:5 Categoría:Semana 1\\Week1>':'2PM',\n",
    "    'Entrega de la mañana (D3) Points Grade <Numérico Puntos máx.:5 Categoría:Semana 1\\Week1>':'3AM',\n",
    "    'Entrega de la tarde (D3) Points Grade <Numérico Puntos máx.:5 Categoría:Semana 1\\Week1>':'3PM',\n",
    "    'Entrega de la mañana (D4) Points Grade <Numérico Puntos máx.:5 Categoría:Semana 1\\Week1>':'4AM',\n",
    "    'Entrega de la tarde (D4) Points Grade <Numérico Puntos máx.:5 Categoría:Semana 1\\Week1>':'4PM',\n",
    "\n",
    "    'Semana 1\\Week1 Subtotal Numerator':'week_1_numerator',\n",
    "    'Semana 1\\Week1 Subtotal Denominator':'week_1_denominator',\n",
    "    \n",
    "    #WEEK 2\n",
    "    'Entrega de la tarde (D5) Points Grade <Numérico Puntos máx.:5 Categoría:Semana 2\\Week 2>':'5PM',\n",
    "    'Entrega de la mañana (D5) Points Grade <Numérico Puntos máx.:5 Categoría:Semana 2\\Week 2>':'5AM',\n",
    "    'Entrega de la mañana (D6) Points Grade <Numérico Puntos máx.:5 Categoría:Semana 2\\Week 2>':'6AM',\n",
    "\n",
    "    'Semana 2\\Week 2 Subtotal Numerator':'week_2_numerator',\n",
    "    'Semana 2\\Week 2 Subtotal Denominator':'week_2_denominator',\n",
    "\n",
    "    'Calculated Final Grade Numerator':'final_numerator',\n",
    "    'Calculated Final Grade Denominator':'final_denominator'\n",
    "}, inplace = True)\n",
    "\n",
    "#we change the type to a numeric float64 from 'object'\n",
    "#Week 1\n",
    "notes['1AM'] = pd.to_numeric(notes['1AM'])\n",
    "notes['1PM'] = pd.to_numeric(notes['1PM'])\n",
    "notes['2AM'] = pd.to_numeric(notes['2AM'])\n",
    "notes['2PM'] = pd.to_numeric(notes['2PM'])\n",
    "notes['3AM'] = pd.to_numeric(notes['3AM'])\n",
    "notes['3PM'] = pd.to_numeric(notes['3PM'])\n",
    "notes['4AM'] = pd.to_numeric(notes['4AM'])\n",
    "notes['4PM'] = pd.to_numeric(notes['4PM'])\n",
    "#Week 2\n",
    "notes['5AM'] = pd.to_numeric(notes['5AM'])\n",
    "notes['5PM'] = pd.to_numeric(notes['5PM'])\n",
    "notes['6AM'] = pd.to_numeric(notes['6AM'])\n",
    "\n",
    "\n",
    "\n",
    "notes['sec'].replace(['Sección No. 1', 'Sección No. 2', 'Sección No. 3','Sección No. 4','Sección No. 5','Sección No. 6','Sección No. 7',\n",
    "'Sección No. 8','Sección No. 9','Sección No. 10 - Las morcillitas'], [1,2,3,4,5,6,7,8,9,10], inplace=True)\n",
    "\n",
    "notes.fillna(0.0, inplace=True)\n",
    "notes['user'] = pd.to_numeric(notes['user'])\n",
    "\n",
    "notes.drop(columns={'Adjusted Final Grade Numerator', 'Adjusted Final Grade Denominator', 'Username'}, axis=1, inplace=True)\n"
   ]
  },
  {
   "cell_type": "code",
   "execution_count": 214,
   "metadata": {},
   "outputs": [
    {
     "data": {
      "text/plain": [
       "Index(['user', 'Last Name', 'First Name', 'sec', '1AM', '1PM', '2AM', '2PM',\n",
       "       '3AM', '3PM', '4AM', '4PM', 'week_1_numerator', 'week_1_denominator',\n",
       "       '5PM', '5AM', '6AM',\n",
       "       'Entrega de la Final del curso Points Grade <Numérico Puntos máx.:5 Categoría:Semana 2\\Week 2>',\n",
       "       'week_2_numerator', 'week_2_denominator', 'final_numerator',\n",
       "       'final_denominator', 'NUMERO', 'ESTUDIANTE', 'GENERO', 'COLEGIO',\n",
       "       'GRADO'],\n",
       "      dtype='object')"
      ]
     },
     "execution_count": 214,
     "metadata": {},
     "output_type": "execute_result"
    }
   ],
   "source": [
    "data = pd.merge(notes, student_data, how='inner', left_on='user', right_on='DOCUMENTO ')\n",
    "\n",
    "data.drop(columns={'EMAIL ESTUDIANTE',\n",
    "       'CORREO ACUDIENTE', 'ESPAÑOL', 'MATEMATICAS', 'PROMEDIO NOTAS',\n",
    "       'ESCALA', 'PUNTAJE', 'RESULTADO', 'EMAIL CONFIRMACION ','CSBRIDGE SEC','Asistió','Email','DOCUMENTO '}, axis=1, inplace=True)\n",
    "\n",
    "\n",
    "#we recalculate the numerator and denominator for every student, as the data didn't take NaN into account.\n",
    "for index in data.index:\n",
    "        #week 1\n",
    "        a = (sum([data.loc[index, '1AM'],\n",
    "        data.loc[index, '1PM'],\n",
    "        data.loc[index, '2AM'],\n",
    "        data.loc[index, '2PM'],\n",
    "        data.loc[index, '3AM'],\n",
    "        data.loc[index, '3PM'],\n",
    "        data.loc[index, '4AM'],\n",
    "        data.loc[index, '4PM']]))\n",
    "        b = 8.0\n",
    "\n",
    "        data.loc[index, 'week_1_numerator'] = Fraction(a/b).numerator\n",
    "        data.loc[index, 'week_1_denominator'] = Fraction(a/b).denominator\n",
    "\n",
    "        #week 2\n",
    "        a = (sum([data.loc[index, '5AM'],\n",
    "                data.loc[index, '5PM'],\n",
    "                data.loc[index, '6AM']]))\n",
    "        b = 3.0\n",
    "\n",
    "        data.loc[index, 'week_2_numerator'] = Fraction(a/b).numerator\n",
    "        data.loc[index, 'week_2_denominator'] = Fraction(a/b).denominator\n",
    "\n",
    "        #final values, this operation might come as redundant at first, but it is quite important for final averages. Either way, i might \n",
    "        #optimize it in the future.\n",
    "        a = (sum([data.loc[index, '1AM'],\n",
    "        data.loc[index, '1PM'],\n",
    "        data.loc[index, '2AM'],\n",
    "        data.loc[index, '2PM'],\n",
    "        data.loc[index, '3AM'],\n",
    "        data.loc[index, '3PM'],\n",
    "        data.loc[index, '4AM'],\n",
    "        data.loc[index, '4PM'],\n",
    "        data.loc[index, '5AM'],\n",
    "        data.loc[index, '5PM'],\n",
    "        data.loc[index, '6AM']]))\n",
    "        b = 11.0\n",
    "        \n",
    "        data.loc[index, 'final_numerator'] = Fraction(a/b).numerator\n",
    "        data.loc[index, 'final_denominator'] = Fraction(a/b).denominator\n",
    "\n",
    "data.columns\n"
   ]
  },
  {
   "cell_type": "markdown",
   "metadata": {},
   "source": [
    "Average grade per day"
   ]
  },
  {
   "cell_type": "code",
   "execution_count": 215,
   "metadata": {},
   "outputs": [],
   "source": [
    "concept_checks = ['1AM','1PM','2AM','2PM','3AM','3PM','4AM','4PM','5AM','5PM','6AM']\n",
    "def average_per_day(df):\n",
    "    concept_averages = []\n",
    "    for concept in concept_checks:\n",
    "        concept_averages.append(round(data[concept].sum()/(len(data)), 2))\n",
    "\n",
    "    avg_concept_notes_source = ColumnDataSource(data=dict(concept_checks = concept_checks, concept_averages = concept_averages, color = Category20c[len(concept_checks)]))\n",
    "    concept_notes_figure = figure(x_range = concept_checks, y_range=(0,5), height=400, title=\"Average notes per concept check\", tools=\"\")\n",
    "    concept_notes_figure.vbar(x='concept_checks', top='concept_averages', width=0.45, color='color', legend_field=\"concept_averages\", source=avg_concept_notes_source)\n",
    "\n",
    "    concept_notes_figure.xgrid.grid_line_color = None\n",
    "    concept_notes_figure.legend.orientation = \"horizontal\"\n",
    "    concept_notes_figure.legend.location = \"top_left\"\n",
    "    return concept_notes_figure\n",
    "\n",
    "show(average_per_day(data))"
   ]
  },
  {
   "cell_type": "markdown",
   "metadata": {},
   "source": [
    "Average grade per gender"
   ]
  },
  {
   "cell_type": "code",
   "execution_count": 216,
   "metadata": {},
   "outputs": [],
   "source": [
    "concept_checks = ['1AM','1PM','2AM','2PM','3AM','3PM','4AM','4PM','5AM','5PM','6AM']\n",
    "gender = ['H','M']\n",
    "def grade_per_gender(data):\n",
    "    x = [(concept, g) for concept in concept_checks for g in gender]\n",
    "    \n",
    "    concept_averages = []\n",
    "    for concept in concept_checks:\n",
    "        concept_averages.append(data.query(\"GENERO == 'H'\")[concept].sum()/len(data.query(\"GENERO == 'H'\")))\n",
    "        concept_averages.append(data.query(\"GENERO == 'M'\")[concept].sum()/len(data.query(\"GENERO == 'M'\")))\n",
    "    source = ColumnDataSource(data=dict(x=x, counts=concept_averages))\n",
    "\n",
    "    concept_gender_figure = figure(x_range=FactorRange(*x),y_range=(0,5), height=400, title=\"Average grade per gender per concept check\",\n",
    "           toolbar_location=None, tools=\"\")\n",
    "    concept_gender_figure.vbar(x='x', top='counts', width=0.9, source=source,\n",
    "    color=factor_cmap('x', palette=['#005067','#FEB9C6'], factors=gender, start=1, end=2))\n",
    "\n",
    "    return concept_gender_figure\n",
    "\n",
    "show(grade_per_gender(data))"
   ]
  },
  {
   "cell_type": "markdown",
   "metadata": {},
   "source": [
    "Percentage of submitted works"
   ]
  },
  {
   "cell_type": "code",
   "execution_count": 217,
   "metadata": {},
   "outputs": [],
   "source": [
    "concept_checks = ['1AM','1PM','2AM','2PM','3AM','3PM','4AM','4PM','5AM','5PM','6AM']\n",
    "def submitted_percentage(data):\n",
    "    concept_percent = []\n",
    "    for concept in concept_checks:\n",
    "        concept_percent.append(round((len(data[data[concept]!=0])/len(data))*100, 2))\n",
    "    \n",
    "    source = ColumnDataSource(data=dict(concept_checks = concept_checks, concept_percent = concept_percent, color = Category20c[len(concept_percent)]))\n",
    "    concept_notes_figure = figure(x_range = concept_checks, y_range=(0,100), height=400, title=\"Submission percentage per concept check\", tools=\"\")\n",
    "    concept_notes_figure.vbar(x='concept_checks', top='concept_percent', width=0.45, color='color', legend_field=\"concept_percent\", source=source)\n",
    "\n",
    "    concept_notes_figure.xgrid.grid_line_color = None\n",
    "    concept_notes_figure.legend.orientation = \"horizontal\"\n",
    "    concept_notes_figure.legend.location = \"top_left\"\n",
    "    return concept_notes_figure\n",
    "\n",
    "show(submitted_percentage(data))"
   ]
  },
  {
   "cell_type": "markdown",
   "metadata": {},
   "source": [
    "Average final grade per section."
   ]
  },
  {
   "cell_type": "code",
   "execution_count": 218,
   "metadata": {},
   "outputs": [],
   "source": [
    "sections = ['1','2','3','4','5','6','7','8','9','10']\n",
    "def grade_per_section(data):\n",
    "    averages = []\n",
    "    for section in sections:\n",
    "        sec_average = []\n",
    "        sec_data = data[data['sec']==int(section)]\n",
    "        for index in sec_data.index:\n",
    "            sec_average.append(sec_data.loc[index, 'final_numerator']/sec_data.loc[index, 'final_denominator'])\n",
    "        averages.append(round(sum(sec_average)/len(sec_average),2))\n",
    "\n",
    "    source = ColumnDataSource(data=dict(sections = sections, averages = averages, color = Category20c[len(sections)]))\n",
    "    avg_notes_figure = figure(x_range = sections, y_range=(0,5), height=400, title=\"Recalculated average grade per section\", tools=\"\")\n",
    "    avg_notes_figure.vbar(x='sections', top='averages', width=0.45, color='color', legend_field=\"averages\", source=source)\n",
    "\n",
    "    avg_notes_figure.xgrid.grid_line_color = None\n",
    "    avg_notes_figure.legend.orientation = \"horizontal\"\n",
    "    avg_notes_figure.legend.location = \"top_left\"\n",
    "    return avg_notes_figure\n",
    "\n",
    "show(grade_per_section(data))"
   ]
  },
  {
   "cell_type": "markdown",
   "metadata": {},
   "source": [
    "Web Server Display Template"
   ]
  },
  {
   "cell_type": "code",
   "execution_count": 219,
   "metadata": {},
   "outputs": [
    {
     "name": "stdout",
     "output_type": "stream",
     "text": [
      "Launching server at http://localhost:51339\n"
     ]
    },
    {
     "data": {
      "text/plain": [
       "<bokeh.server.server.Server at 0x2d0b69988e0>"
      ]
     },
     "execution_count": 219,
     "metadata": {},
     "output_type": "execute_result"
    }
   ],
   "source": [
    "#Layout using Template\n",
    "#call to previous functions, we do this so this cell has access to 'data'\n",
    "submitted_percentage = submitted_percentage(data)\n",
    "\n",
    "template = pn.template.FastListTemplate(\n",
    "    title='CS Bridge - Grade Data.',\n",
    "    main=[pn.Column(pn.Row(pn.pane.Bokeh(submitted_percentage),pn.pane.Bokeh(average_per_day(data)))), \n",
    "        pn.Column(pn.Row(grade_per_gender(data),grade_per_section(data)))],\n",
    "    accent_base_color=\"#2f3e46\",\n",
    "    header_background=\"#354f52\",\n",
    ")\n",
    "template.show()"
   ]
  }
 ],
 "metadata": {
  "kernelspec": {
   "display_name": "Python 3.9.12 ('base')",
   "language": "python",
   "name": "python3"
  },
  "language_info": {
   "codemirror_mode": {
    "name": "ipython",
    "version": 3
   },
   "file_extension": ".py",
   "mimetype": "text/x-python",
   "name": "python",
   "nbconvert_exporter": "python",
   "pygments_lexer": "ipython3",
   "version": "3.9.12"
  },
  "orig_nbformat": 4,
  "vscode": {
   "interpreter": {
    "hash": "c4f92193806e2908606a5f23edd55a5282f2f433b73b1c504507f9256ed9f0b4"
   }
  }
 },
 "nbformat": 4,
 "nbformat_minor": 2
}
