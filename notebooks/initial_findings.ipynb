{
 "cells": [
  {
   "cell_type": "markdown",
   "metadata": {},
   "source": [
    "#Import management"
   ]
  },
  {
   "cell_type": "code",
   "execution_count": 31,
   "metadata": {
    "collapsed": true,
    "pycharm": {
     "name": "#%%\n"
    }
   },
   "outputs": [],
   "source": [
    "#we import sys to add the models folder to path, allowing us to use those scripts in visualization\n",
    "import sys\n",
    "sys.path.insert(1, '../models/')\n",
    "\n",
    "import pandas as pd\n",
    "import numpy as np\n",
    "import panel as pn\n",
    "import clean_data as cd\n",
    "\n",
    "from math import pi\n",
    "from bokeh.models import ColumnDataSource\n",
    "from bokeh.transform import cumsum\n",
    "from bokeh.palettes import Spectral6\n",
    "from bokeh.palettes import Category20c\n",
    "from bokeh.plotting import figure, show\n",
    "from fractions import Fraction\n",
    "\n",
    "\n",
    "\n",
    "pn.extension('tabulator')\n",
    "\n",
    "import hvplot.pandas"
   ]
  },
  {
   "cell_type": "markdown",
   "metadata": {},
   "source": [
    "--Data Management--\n",
    "Now, we get the .csv files with raw data from the '/data' folder."
   ]
  },
  {
   "cell_type": "code",
   "execution_count": 32,
   "metadata": {},
   "outputs": [],
   "source": [
    "data_path = '../data/notes_all_sections.csv'"
   ]
  },
  {
   "cell_type": "markdown",
   "metadata": {},
   "source": [
    "--File Reading--\n",
    "\n",
    "We're now going to read the files that we got beforehand."
   ]
  },
  {
   "cell_type": "code",
   "execution_count": 33,
   "metadata": {},
   "outputs": [
    {
     "data": {
      "text/plain": [
       "Index(['OrgDefinedId', 'Secciones',\n",
       "       'Entrega de la mañana D1 Points Grade <Numérico Puntos máx.:5 Categoría:Semana 1\\Week1>',\n",
       "       'Entrega de la tarde D1 Points Grade <Numérico Puntos máx.:5 Categoría:Semana 1\\Week1>',\n",
       "       'Entrega de la mañana (D2) Points Grade <Numérico Puntos máx.:5 Categoría:Semana 1\\Week1>',\n",
       "       'Entrega de la tarde (D2) Points Grade <Numérico Puntos máx.:5 Categoría:Semana 1\\Week1>',\n",
       "       'Entrega de la mañana (D3) Points Grade <Numérico Puntos máx.:5 Categoría:Semana 1\\Week1>',\n",
       "       'Entrega de la tarde (D3) Points Grade <Numérico Puntos máx.:5 Categoría:Semana 1\\Week1>',\n",
       "       'Entrega de la mañana (D4) Points Grade <Numérico Puntos máx.:5 Categoría:Semana 1\\Week1>',\n",
       "       'Entrega de la tarde (D4) Points Grade <Numérico Puntos máx.:5 Categoría:Semana 1\\Week1>',\n",
       "       'Semana 1\\Week1 Subtotal Numerator',\n",
       "       'Semana 1\\Week1 Subtotal Denominator',\n",
       "       'Entrega de la tarde (D5) Points Grade <Numérico Puntos máx.:5 Categoría:Semana 2\\Week 2>',\n",
       "       'Entrega de la mañana (D5) Points Grade <Numérico Puntos máx.:5 Categoría:Semana 2\\Week 2>',\n",
       "       'Entrega de la mañana (D6) Points Grade <Numérico Puntos máx.:5 Categoría:Semana 2\\Week 2>',\n",
       "       'Semana 2\\Week 2 Subtotal Numerator',\n",
       "       'Semana 2\\Week 2 Subtotal Denominator',\n",
       "       'Calculated Final Grade Numerator',\n",
       "       'Calculated Final Grade Denominator', 'Adjusted Final Grade Numerator',\n",
       "       'Adjusted Final Grade Denominator', 'End-of-Line Indicator'],\n",
       "      dtype='object')"
      ]
     },
     "execution_count": 33,
     "metadata": {},
     "output_type": "execute_result"
    }
   ],
   "source": [
    "data = pd.read_csv(data_path)\n",
    "data.columns"
   ]
  },
  {
   "cell_type": "markdown",
   "metadata": {},
   "source": [
    "...And now we'll call the data cleaning scripts on this data."
   ]
  },
  {
   "cell_type": "code",
   "execution_count": 34,
   "metadata": {},
   "outputs": [
    {
     "data": {
      "text/html": [
       "<div>\n",
       "<style scoped>\n",
       "    .dataframe tbody tr th:only-of-type {\n",
       "        vertical-align: middle;\n",
       "    }\n",
       "\n",
       "    .dataframe tbody tr th {\n",
       "        vertical-align: top;\n",
       "    }\n",
       "\n",
       "    .dataframe thead th {\n",
       "        text-align: right;\n",
       "    }\n",
       "</style>\n",
       "<table border=\"1\" class=\"dataframe\">\n",
       "  <thead>\n",
       "    <tr style=\"text-align: right;\">\n",
       "      <th></th>\n",
       "      <th>user</th>\n",
       "      <th>sec</th>\n",
       "      <th>1AM</th>\n",
       "      <th>1PM</th>\n",
       "      <th>2AM</th>\n",
       "      <th>2PM</th>\n",
       "      <th>3AM</th>\n",
       "      <th>3PM</th>\n",
       "      <th>4AM</th>\n",
       "      <th>4PM</th>\n",
       "      <th>week_1_numerator</th>\n",
       "      <th>week_1_denominator</th>\n",
       "      <th>5PM</th>\n",
       "      <th>5AM</th>\n",
       "      <th>6AM</th>\n",
       "      <th>week_2_numerator</th>\n",
       "      <th>week_2_denominator</th>\n",
       "      <th>final_numerator</th>\n",
       "      <th>final_denominator</th>\n",
       "    </tr>\n",
       "  </thead>\n",
       "  <tbody>\n",
       "    <tr>\n",
       "      <th>1</th>\n",
       "      <td>#1000594810</td>\n",
       "      <td>3</td>\n",
       "      <td>0.0</td>\n",
       "      <td>0.0</td>\n",
       "      <td>3.5</td>\n",
       "      <td>5.0</td>\n",
       "      <td>2.5</td>\n",
       "      <td>0.0</td>\n",
       "      <td>2.5</td>\n",
       "      <td>0.0</td>\n",
       "      <td>27.0</td>\n",
       "      <td>16.0</td>\n",
       "      <td>0.0</td>\n",
       "      <td>5.0</td>\n",
       "      <td>0.0</td>\n",
       "      <td>7.574236e+15</td>\n",
       "      <td>4.503600e+15</td>\n",
       "      <td>18.5</td>\n",
       "      <td>25.0</td>\n",
       "    </tr>\n",
       "    <tr>\n",
       "      <th>2</th>\n",
       "      <td>#101051396</td>\n",
       "      <td>7</td>\n",
       "      <td>0.0</td>\n",
       "      <td>5.0</td>\n",
       "      <td>3.5</td>\n",
       "      <td>5.0</td>\n",
       "      <td>0.0</td>\n",
       "      <td>5.0</td>\n",
       "      <td>5.0</td>\n",
       "      <td>0.0</td>\n",
       "      <td>47.0</td>\n",
       "      <td>16.0</td>\n",
       "      <td>5.0</td>\n",
       "      <td>0.0</td>\n",
       "      <td>5.0</td>\n",
       "      <td>6.857754e+15</td>\n",
       "      <td>2.251800e+15</td>\n",
       "      <td>33.5</td>\n",
       "      <td>35.0</td>\n",
       "    </tr>\n",
       "    <tr>\n",
       "      <th>3</th>\n",
       "      <td>#1010840777</td>\n",
       "      <td>1</td>\n",
       "      <td>5.0</td>\n",
       "      <td>5.0</td>\n",
       "      <td>5.0</td>\n",
       "      <td>5.0</td>\n",
       "      <td>5.0</td>\n",
       "      <td>5.0</td>\n",
       "      <td>5.0</td>\n",
       "      <td>0.0</td>\n",
       "      <td>35.0</td>\n",
       "      <td>8.0</td>\n",
       "      <td>0.0</td>\n",
       "      <td>0.0</td>\n",
       "      <td>0.0</td>\n",
       "      <td>1.791204e+15</td>\n",
       "      <td>5.629500e+14</td>\n",
       "      <td>35.0</td>\n",
       "      <td>35.0</td>\n",
       "    </tr>\n",
       "    <tr>\n",
       "      <th>4</th>\n",
       "      <td>#1010961769</td>\n",
       "      <td>4</td>\n",
       "      <td>5.0</td>\n",
       "      <td>5.0</td>\n",
       "      <td>5.0</td>\n",
       "      <td>5.0</td>\n",
       "      <td>3.5</td>\n",
       "      <td>5.0</td>\n",
       "      <td>5.0</td>\n",
       "      <td>0.0</td>\n",
       "      <td>67.0</td>\n",
       "      <td>16.0</td>\n",
       "      <td>5.0</td>\n",
       "      <td>5.0</td>\n",
       "      <td>5.0</td>\n",
       "      <td>4.964195e+15</td>\n",
       "      <td>1.125900e+15</td>\n",
       "      <td>53.5</td>\n",
       "      <td>55.0</td>\n",
       "    </tr>\n",
       "    <tr>\n",
       "      <th>5</th>\n",
       "      <td>#1010962618</td>\n",
       "      <td>5</td>\n",
       "      <td>0.0</td>\n",
       "      <td>5.0</td>\n",
       "      <td>5.0</td>\n",
       "      <td>5.0</td>\n",
       "      <td>5.0</td>\n",
       "      <td>5.0</td>\n",
       "      <td>5.0</td>\n",
       "      <td>5.0</td>\n",
       "      <td>35.0</td>\n",
       "      <td>8.0</td>\n",
       "      <td>5.0</td>\n",
       "      <td>5.0</td>\n",
       "      <td>5.0</td>\n",
       "      <td>5.117727e+15</td>\n",
       "      <td>1.125900e+15</td>\n",
       "      <td>50.0</td>\n",
       "      <td>50.0</td>\n",
       "    </tr>\n",
       "    <tr>\n",
       "      <th>...</th>\n",
       "      <td>...</td>\n",
       "      <td>...</td>\n",
       "      <td>...</td>\n",
       "      <td>...</td>\n",
       "      <td>...</td>\n",
       "      <td>...</td>\n",
       "      <td>...</td>\n",
       "      <td>...</td>\n",
       "      <td>...</td>\n",
       "      <td>...</td>\n",
       "      <td>...</td>\n",
       "      <td>...</td>\n",
       "      <td>...</td>\n",
       "      <td>...</td>\n",
       "      <td>...</td>\n",
       "      <td>...</td>\n",
       "      <td>...</td>\n",
       "      <td>...</td>\n",
       "      <td>...</td>\n",
       "    </tr>\n",
       "    <tr>\n",
       "      <th>112</th>\n",
       "      <td>#1141715139</td>\n",
       "      <td>2</td>\n",
       "      <td>5.0</td>\n",
       "      <td>5.0</td>\n",
       "      <td>5.0</td>\n",
       "      <td>5.0</td>\n",
       "      <td>5.0</td>\n",
       "      <td>3.5</td>\n",
       "      <td>5.0</td>\n",
       "      <td>5.0</td>\n",
       "      <td>77.0</td>\n",
       "      <td>16.0</td>\n",
       "      <td>3.5</td>\n",
       "      <td>3.5</td>\n",
       "      <td>5.0</td>\n",
       "      <td>5.168904e+15</td>\n",
       "      <td>1.125900e+15</td>\n",
       "      <td>50.5</td>\n",
       "      <td>55.0</td>\n",
       "    </tr>\n",
       "    <tr>\n",
       "      <th>113</th>\n",
       "      <td>#1145924881</td>\n",
       "      <td>1</td>\n",
       "      <td>5.0</td>\n",
       "      <td>5.0</td>\n",
       "      <td>5.0</td>\n",
       "      <td>5.0</td>\n",
       "      <td>5.0</td>\n",
       "      <td>5.0</td>\n",
       "      <td>5.0</td>\n",
       "      <td>5.0</td>\n",
       "      <td>5.0</td>\n",
       "      <td>1.0</td>\n",
       "      <td>5.0</td>\n",
       "      <td>5.0</td>\n",
       "      <td>0.0</td>\n",
       "      <td>5.117727e+15</td>\n",
       "      <td>1.125900e+15</td>\n",
       "      <td>55.0</td>\n",
       "      <td>55.0</td>\n",
       "    </tr>\n",
       "    <tr>\n",
       "      <th>114</th>\n",
       "      <td>#202225959</td>\n",
       "      <td>10</td>\n",
       "      <td>0.0</td>\n",
       "      <td>3.5</td>\n",
       "      <td>5.0</td>\n",
       "      <td>3.5</td>\n",
       "      <td>5.0</td>\n",
       "      <td>5.0</td>\n",
       "      <td>5.0</td>\n",
       "      <td>0.0</td>\n",
       "      <td>27.0</td>\n",
       "      <td>8.0</td>\n",
       "      <td>5.0</td>\n",
       "      <td>5.0</td>\n",
       "      <td>5.0</td>\n",
       "      <td>2.149445e+15</td>\n",
       "      <td>5.629500e+14</td>\n",
       "      <td>42.0</td>\n",
       "      <td>45.0</td>\n",
       "    </tr>\n",
       "    <tr>\n",
       "      <th>116</th>\n",
       "      <td>#665101</td>\n",
       "      <td>2</td>\n",
       "      <td>5.0</td>\n",
       "      <td>3.5</td>\n",
       "      <td>5.0</td>\n",
       "      <td>5.0</td>\n",
       "      <td>5.0</td>\n",
       "      <td>3.5</td>\n",
       "      <td>5.0</td>\n",
       "      <td>5.0</td>\n",
       "      <td>37.0</td>\n",
       "      <td>8.0</td>\n",
       "      <td>5.0</td>\n",
       "      <td>5.0</td>\n",
       "      <td>5.0</td>\n",
       "      <td>5.322436e+15</td>\n",
       "      <td>1.125900e+15</td>\n",
       "      <td>52.0</td>\n",
       "      <td>55.0</td>\n",
       "    </tr>\n",
       "    <tr>\n",
       "      <th>118</th>\n",
       "      <td>#774042</td>\n",
       "      <td>6</td>\n",
       "      <td>5.0</td>\n",
       "      <td>0.0</td>\n",
       "      <td>5.0</td>\n",
       "      <td>3.5</td>\n",
       "      <td>3.5</td>\n",
       "      <td>0.0</td>\n",
       "      <td>2.5</td>\n",
       "      <td>0.0</td>\n",
       "      <td>39.0</td>\n",
       "      <td>16.0</td>\n",
       "      <td>5.0</td>\n",
       "      <td>5.0</td>\n",
       "      <td>0.0</td>\n",
       "      <td>1.509729e+15</td>\n",
       "      <td>5.629500e+14</td>\n",
       "      <td>34.5</td>\n",
       "      <td>45.0</td>\n",
       "    </tr>\n",
       "  </tbody>\n",
       "</table>\n",
       "<p>100 rows × 19 columns</p>\n",
       "</div>"
      ],
      "text/plain": [
       "            user  sec  1AM  1PM  2AM  2PM  3AM  3PM  4AM  4PM  \\\n",
       "1    #1000594810    3  0.0  0.0  3.5  5.0  2.5  0.0  2.5  0.0   \n",
       "2     #101051396    7  0.0  5.0  3.5  5.0  0.0  5.0  5.0  0.0   \n",
       "3    #1010840777    1  5.0  5.0  5.0  5.0  5.0  5.0  5.0  0.0   \n",
       "4    #1010961769    4  5.0  5.0  5.0  5.0  3.5  5.0  5.0  0.0   \n",
       "5    #1010962618    5  0.0  5.0  5.0  5.0  5.0  5.0  5.0  5.0   \n",
       "..           ...  ...  ...  ...  ...  ...  ...  ...  ...  ...   \n",
       "112  #1141715139    2  5.0  5.0  5.0  5.0  5.0  3.5  5.0  5.0   \n",
       "113  #1145924881    1  5.0  5.0  5.0  5.0  5.0  5.0  5.0  5.0   \n",
       "114   #202225959   10  0.0  3.5  5.0  3.5  5.0  5.0  5.0  0.0   \n",
       "116      #665101    2  5.0  3.5  5.0  5.0  5.0  3.5  5.0  5.0   \n",
       "118      #774042    6  5.0  0.0  5.0  3.5  3.5  0.0  2.5  0.0   \n",
       "\n",
       "     week_1_numerator  week_1_denominator  5PM  5AM  6AM  week_2_numerator  \\\n",
       "1                27.0                16.0  0.0  5.0  0.0      7.574236e+15   \n",
       "2                47.0                16.0  5.0  0.0  5.0      6.857754e+15   \n",
       "3                35.0                 8.0  0.0  0.0  0.0      1.791204e+15   \n",
       "4                67.0                16.0  5.0  5.0  5.0      4.964195e+15   \n",
       "5                35.0                 8.0  5.0  5.0  5.0      5.117727e+15   \n",
       "..                ...                 ...  ...  ...  ...               ...   \n",
       "112              77.0                16.0  3.5  3.5  5.0      5.168904e+15   \n",
       "113               5.0                 1.0  5.0  5.0  0.0      5.117727e+15   \n",
       "114              27.0                 8.0  5.0  5.0  5.0      2.149445e+15   \n",
       "116              37.0                 8.0  5.0  5.0  5.0      5.322436e+15   \n",
       "118              39.0                16.0  5.0  5.0  0.0      1.509729e+15   \n",
       "\n",
       "     week_2_denominator  final_numerator  final_denominator  \n",
       "1          4.503600e+15             18.5               25.0  \n",
       "2          2.251800e+15             33.5               35.0  \n",
       "3          5.629500e+14             35.0               35.0  \n",
       "4          1.125900e+15             53.5               55.0  \n",
       "5          1.125900e+15             50.0               50.0  \n",
       "..                  ...              ...                ...  \n",
       "112        1.125900e+15             50.5               55.0  \n",
       "113        1.125900e+15             55.0               55.0  \n",
       "114        5.629500e+14             42.0               45.0  \n",
       "116        1.125900e+15             52.0               55.0  \n",
       "118        5.629500e+14             34.5               45.0  \n",
       "\n",
       "[100 rows x 19 columns]"
      ]
     },
     "execution_count": 34,
     "metadata": {},
     "output_type": "execute_result"
    }
   ],
   "source": [
    "#We rename the columns to make them easier to work with\n",
    "data.rename(columns={\n",
    "    #WEEK 1\n",
    "    'OrgDefinedId':'user',\n",
    "    'Secciones':'sec',\n",
    "    'Entrega de la mañana D1 Points Grade <Numérico Puntos máx.:5 Categoría:Semana 1\\Week1>':'1AM',\n",
    "    'Entrega de la tarde D1 Points Grade <Numérico Puntos máx.:5 Categoría:Semana 1\\Week1>':'1PM',\n",
    "    'Entrega de la mañana (D2) Points Grade <Numérico Puntos máx.:5 Categoría:Semana 1\\Week1>':'2AM',\n",
    "    'Entrega de la tarde (D2) Points Grade <Numérico Puntos máx.:5 Categoría:Semana 1\\Week1>':'2PM',\n",
    "    'Entrega de la mañana (D3) Points Grade <Numérico Puntos máx.:5 Categoría:Semana 1\\Week1>':'3AM',\n",
    "    'Entrega de la tarde (D3) Points Grade <Numérico Puntos máx.:5 Categoría:Semana 1\\Week1>':'3PM',\n",
    "    'Entrega de la mañana (D4) Points Grade <Numérico Puntos máx.:5 Categoría:Semana 1\\Week1>':'4AM',\n",
    "    'Entrega de la tarde (D4) Points Grade <Numérico Puntos máx.:5 Categoría:Semana 1\\Week1>':'4PM',\n",
    "\n",
    "    'Semana 1\\Week1 Subtotal Numerator':'week_1_numerator',\n",
    "    'Semana 1\\Week1 Subtotal Denominator':'week_1_denominator',\n",
    "    \n",
    "    #WEEK 2\n",
    "    'Entrega de la tarde (D5) Points Grade <Numérico Puntos máx.:5 Categoría:Semana 2\\Week 2>':'5PM',\n",
    "    'Entrega de la mañana (D5) Points Grade <Numérico Puntos máx.:5 Categoría:Semana 2\\Week 2>':'5AM',\n",
    "    'Entrega de la mañana (D6) Points Grade <Numérico Puntos máx.:5 Categoría:Semana 2\\Week 2>':'6AM',\n",
    "\n",
    "    'Semana 2\\Week 2 Subtotal Numerator':'week_2_numerator',\n",
    "    'Semana 2\\Week 2 Subtotal Denominator':'week_2_denominator',\n",
    "\n",
    "    'Calculated Final Grade Numerator':'final_numerator',\n",
    "    'Calculated Final Grade Denominator':'final_denominator'\n",
    "}, inplace = True)\n",
    "\n",
    "#drop unnecesary columns\n",
    "data.drop(columns={'Adjusted Final Grade Numerator', 'Adjusted Final Grade Denominator','End-of-Line Indicator'}, axis=1, inplace=True)\n",
    "#filter blank students\n",
    "data = data[data['sec'].notna()]\n",
    "#fill NaN with 0\n",
    "data.fillna(0.0, inplace=True)\n",
    "\n",
    "#change sections to numbers, this will be useful for binding on analytic tables later\n",
    "data['sec'].replace(['Sección No. 1', 'Sección No. 2', 'Sección No. 3','Sección No. 4','Sección No. 5','Sección No. 6','Sección No. 7',\n",
    "'Sección No. 8','Sección No. 9','Sección No. 10 - Las morcillitas'], [1,2,3,4,5,6,7,8,9,10], inplace=True)\n",
    "\n",
    "#we change the type to a numeric float64 from 'object'\n",
    "#Week 1\n",
    "data['1AM'] = pd.to_numeric(data['1AM'])\n",
    "data['1PM'] = pd.to_numeric(data['1PM'])\n",
    "data['2AM'] = pd.to_numeric(data['2AM'])\n",
    "data['2PM'] = pd.to_numeric(data['2PM'])\n",
    "data['3AM'] = pd.to_numeric(data['3AM'])\n",
    "data['3PM'] = pd.to_numeric(data['3PM'])\n",
    "data['4AM'] = pd.to_numeric(data['4AM'])\n",
    "data['4PM'] = pd.to_numeric(data['4PM'])\n",
    "#Week 2\n",
    "data['5AM'] = pd.to_numeric(data['5AM'])\n",
    "data['5PM'] = pd.to_numeric(data['5PM'])\n",
    "data['6AM'] = pd.to_numeric(data['6AM'])\n",
    "\n",
    "\n",
    "#we recalculate the numerator and denominator for every student, as the data didn't take NaN into account.\n",
    "for index in data.index:\n",
    "        #week 1\n",
    "        a = (sum([data.loc[index, '1AM'],\n",
    "        data.loc[index, '1PM'],\n",
    "        data.loc[index, '2AM'],\n",
    "        data.loc[index, '2PM'],\n",
    "        data.loc[index, '3AM'],\n",
    "        data.loc[index, '3PM'],\n",
    "        data.loc[index, '4AM'],\n",
    "        data.loc[index, '4PM']]))\n",
    "        b = 8.0\n",
    "\n",
    "        data.loc[index, 'week_1_numerator'] = Fraction(a/b).numerator\n",
    "        data.loc[index, 'week_1_denominator'] = Fraction(a/b).denominator\n",
    "\n",
    "        #week 2\n",
    "        a = (sum([data.loc[index, '5AM'],\n",
    "                data.loc[index, '5PM'],\n",
    "                data.loc[index, '6AM']]))\n",
    "        b = 3.0\n",
    "\n",
    "        data.loc[index, 'week_2_numerator'] = Fraction(a/b).numerator\n",
    "        data.loc[index, 'week_2_denominator'] = Fraction(a/b).denominator\n",
    "\n",
    "        #final values, this operation might come as redundant at first, but it is quite important for final averages. Either way, i might \n",
    "        #optimize it in the future.\n",
    "        a = (sum([data.loc[index, '1AM'],\n",
    "        data.loc[index, '1PM'],\n",
    "        data.loc[index, '2AM'],\n",
    "        data.loc[index, '2PM'],\n",
    "        data.loc[index, '3AM'],\n",
    "        data.loc[index, '3PM'],\n",
    "        data.loc[index, '4AM'],\n",
    "        data.loc[index, '4PM'],\n",
    "        data.loc[index, '5AM'],\n",
    "        data.loc[index, '5PM'],\n",
    "        data.loc[index, '6AM']]))\n",
    "        b = 11.0\n",
    "        \n",
    "        data.loc[index, 'week_2_numerator'] = Fraction(a/b).numerator\n",
    "        data.loc[index, 'week_2_denominator'] = Fraction(a/b).denominator\n",
    "\n",
    "\n",
    "interactive_data = data.interactive()\n",
    "data    \n"
   ]
  },
  {
   "cell_type": "markdown",
   "metadata": {},
   "source": [
    "Once all of that is said and done, it's time to start making some graphs from this information."
   ]
  },
  {
   "cell_type": "markdown",
   "metadata": {},
   "source": [
    "Average notes by day"
   ]
  },
  {
   "cell_type": "code",
   "execution_count": 35,
   "metadata": {},
   "outputs": [
    {
     "data": {
      "text/html": [
       "\n",
       "\n",
       "\n",
       "\n",
       "\n",
       "\n",
       "  <div class=\"bk-root\" id=\"34a6cacc-ff6f-4160-9437-f144b91e2a99\" data-root-id=\"2904\"></div>\n"
      ]
     },
     "metadata": {},
     "output_type": "display_data"
    },
    {
     "data": {
      "application/javascript": "(function(root) {\n  function embed_document(root) {\n    \n  const docs_json = {\"1a762285-41dd-4b65-b560-f8e0a8744d61\":{\"defs\":[{\"extends\":null,\"module\":null,\"name\":\"ReactiveHTML1\",\"overrides\":[],\"properties\":[]},{\"extends\":null,\"module\":null,\"name\":\"FlexBox1\",\"overrides\":[],\"properties\":[{\"default\":\"flex-start\",\"kind\":null,\"name\":\"align_content\"},{\"default\":\"flex-start\",\"kind\":null,\"name\":\"align_items\"},{\"default\":\"row\",\"kind\":null,\"name\":\"flex_direction\"},{\"default\":\"wrap\",\"kind\":null,\"name\":\"flex_wrap\"},{\"default\":\"flex-start\",\"kind\":null,\"name\":\"justify_content\"}]},{\"extends\":null,\"module\":null,\"name\":\"GridStack1\",\"overrides\":[],\"properties\":[{\"default\":\"warn\",\"kind\":null,\"name\":\"mode\"},{\"default\":null,\"kind\":null,\"name\":\"ncols\"},{\"default\":null,\"kind\":null,\"name\":\"nrows\"},{\"default\":true,\"kind\":null,\"name\":\"allow_resize\"},{\"default\":true,\"kind\":null,\"name\":\"allow_drag\"},{\"default\":[],\"kind\":null,\"name\":\"state\"}]},{\"extends\":null,\"module\":null,\"name\":\"click1\",\"overrides\":[],\"properties\":[{\"default\":\"\",\"kind\":null,\"name\":\"terminal_output\"},{\"default\":\"\",\"kind\":null,\"name\":\"debug_name\"},{\"default\":0,\"kind\":null,\"name\":\"clears\"}]},{\"extends\":null,\"module\":null,\"name\":\"TemplateActions1\",\"overrides\":[],\"properties\":[{\"default\":0,\"kind\":null,\"name\":\"open_modal\"},{\"default\":0,\"kind\":null,\"name\":\"close_modal\"}]},{\"extends\":null,\"module\":null,\"name\":\"MaterialTemplateActions1\",\"overrides\":[],\"properties\":[{\"default\":0,\"kind\":null,\"name\":\"open_modal\"},{\"default\":0,\"kind\":null,\"name\":\"close_modal\"}]}],\"roots\":{\"references\":[{\"attributes\":{\"below\":[{\"id\":\"2915\"}],\"center\":[{\"id\":\"2917\"},{\"id\":\"2921\"},{\"id\":\"2938\"}],\"height\":400,\"left\":[{\"id\":\"2918\"}],\"renderers\":[{\"id\":\"2927\"}],\"title\":{\"id\":\"2905\"},\"toolbar\":{\"id\":\"2922\"},\"toolbar_location\":null,\"x_range\":{\"id\":\"2907\"},\"x_scale\":{\"id\":\"2911\"},\"y_range\":{\"id\":\"2909\"},\"y_scale\":{\"id\":\"2913\"}},\"id\":\"2904\",\"subtype\":\"Figure\",\"type\":\"Plot\"},{\"attributes\":{\"coordinates\":null,\"group\":null,\"items\":[{\"id\":\"2939\"}],\"location\":\"top_center\",\"orientation\":\"horizontal\"},\"id\":\"2938\",\"type\":\"Legend\"},{\"attributes\":{\"coordinates\":null,\"formatter\":{\"id\":\"2934\"},\"group\":null,\"major_label_policy\":{\"id\":\"2935\"},\"ticker\":{\"id\":\"2916\"}},\"id\":\"2915\",\"type\":\"CategoricalAxis\"},{\"attributes\":{},\"id\":\"2931\",\"type\":\"BasicTickFormatter\"},{\"attributes\":{\"fill_color\":{\"field\":\"color\"},\"hatch_color\":{\"field\":\"color\"},\"line_color\":{\"field\":\"color\"},\"top\":{\"field\":\"day_averages\"},\"width\":{\"value\":0.9},\"x\":{\"field\":\"days\"}},\"id\":\"2924\",\"type\":\"VBar\"},{\"attributes\":{},\"id\":\"2913\",\"type\":\"LinearScale\"},{\"attributes\":{},\"id\":\"2935\",\"type\":\"AllLabels\"},{\"attributes\":{},\"id\":\"2934\",\"type\":\"CategoricalTickFormatter\"},{\"attributes\":{\"fill_alpha\":{\"value\":0.2},\"fill_color\":{\"field\":\"color\"},\"hatch_alpha\":{\"value\":0.2},\"hatch_color\":{\"field\":\"color\"},\"line_alpha\":{\"value\":0.2},\"line_color\":{\"field\":\"color\"},\"top\":{\"field\":\"day_averages\"},\"width\":{\"value\":0.9},\"x\":{\"field\":\"days\"}},\"id\":\"2926\",\"type\":\"VBar\"},{\"attributes\":{\"fill_alpha\":{\"value\":0.1},\"fill_color\":{\"field\":\"color\"},\"hatch_alpha\":{\"value\":0.1},\"hatch_color\":{\"field\":\"color\"},\"line_alpha\":{\"value\":0.1},\"line_color\":{\"field\":\"color\"},\"top\":{\"field\":\"day_averages\"},\"width\":{\"value\":0.9},\"x\":{\"field\":\"days\"}},\"id\":\"2925\",\"type\":\"VBar\"},{\"attributes\":{\"coordinates\":null,\"group\":null,\"text\":\"Average notes per day\"},\"id\":\"2905\",\"type\":\"Title\"},{\"attributes\":{},\"id\":\"2911\",\"type\":\"CategoricalScale\"},{\"attributes\":{\"data\":{\"color\":[\"#3288bd\",\"#99d594\",\"#e6f598\",\"#fee08b\",\"#fc8d59\",\"#d53e4f\"],\"day_averages\":[2.3075,4.074,3.9205,3.0145,3.262,3.056],\"days\":[\"Day 1\",\"Day 2\",\"Day 3\",\"Day 4\",\"Day 5\",\"Day 6\"]},\"selected\":{\"id\":\"2937\"},\"selection_policy\":{\"id\":\"2936\"}},\"id\":\"2903\",\"type\":\"ColumnDataSource\"},{\"attributes\":{\"label\":{\"field\":\"days\"},\"renderers\":[{\"id\":\"2927\"}]},\"id\":\"2939\",\"type\":\"LegendItem\"},{\"attributes\":{\"coordinates\":null,\"formatter\":{\"id\":\"2931\"},\"group\":null,\"major_label_policy\":{\"id\":\"2932\"},\"ticker\":{\"id\":\"2919\"}},\"id\":\"2918\",\"type\":\"LinearAxis\"},{\"attributes\":{\"coordinates\":null,\"data_source\":{\"id\":\"2903\"},\"glyph\":{\"id\":\"2924\"},\"group\":null,\"hover_glyph\":null,\"muted_glyph\":{\"id\":\"2926\"},\"nonselection_glyph\":{\"id\":\"2925\"},\"view\":{\"id\":\"2928\"}},\"id\":\"2927\",\"type\":\"GlyphRenderer\"},{\"attributes\":{},\"id\":\"2919\",\"type\":\"BasicTicker\"},{\"attributes\":{\"source\":{\"id\":\"2903\"}},\"id\":\"2928\",\"type\":\"CDSView\"},{\"attributes\":{},\"id\":\"2936\",\"type\":\"UnionRenderers\"},{\"attributes\":{},\"id\":\"2937\",\"type\":\"Selection\"},{\"attributes\":{\"factors\":[\"Day 1\",\"Day 2\",\"Day 3\",\"Day 4\",\"Day 5\",\"Day 6\"]},\"id\":\"2907\",\"type\":\"FactorRange\"},{\"attributes\":{\"axis\":{\"id\":\"2918\"},\"coordinates\":null,\"dimension\":1,\"group\":null,\"ticker\":null},\"id\":\"2921\",\"type\":\"Grid\"},{\"attributes\":{},\"id\":\"2922\",\"type\":\"Toolbar\"},{\"attributes\":{},\"id\":\"2932\",\"type\":\"AllLabels\"},{\"attributes\":{\"end\":5},\"id\":\"2909\",\"type\":\"Range1d\"},{\"attributes\":{\"axis\":{\"id\":\"2915\"},\"coordinates\":null,\"grid_line_color\":null,\"group\":null,\"ticker\":null},\"id\":\"2917\",\"type\":\"Grid\"},{\"attributes\":{},\"id\":\"2916\",\"type\":\"CategoricalTicker\"}],\"root_ids\":[\"2904\"]},\"title\":\"Bokeh Application\",\"version\":\"2.4.2\"}};\n  const render_items = [{\"docid\":\"1a762285-41dd-4b65-b560-f8e0a8744d61\",\"root_ids\":[\"2904\"],\"roots\":{\"2904\":\"34a6cacc-ff6f-4160-9437-f144b91e2a99\"}}];\n  root.Bokeh.embed.embed_items_notebook(docs_json, render_items);\n\n  }\n  if (root.Bokeh !== undefined) {\n    embed_document(root);\n  } else {\n    let attempts = 0;\n    const timer = setInterval(function(root) {\n      if (root.Bokeh !== undefined) {\n        clearInterval(timer);\n        embed_document(root);\n      } else {\n        attempts++;\n        if (attempts > 100) {\n          clearInterval(timer);\n          console.log(\"Bokeh: ERROR: Unable to run BokehJS code because BokehJS library is missing\");\n        }\n      }\n    }, 10, root)\n  }\n})(window);",
      "application/vnd.bokehjs_exec.v0+json": ""
     },
     "metadata": {
      "application/vnd.bokehjs_exec.v0+json": {
       "id": "2904"
      }
     },
     "output_type": "display_data"
    }
   ],
   "source": [
    "days = ['Day 1','Day 2','Day 3','Day 4','Day 5','Day 6']\n",
    "\n",
    "day_averages = [(data['1AM'].sum()+data['1PM'].sum())/(len(data)*2),\n",
    "(data['2AM'].sum()+data['2PM'].sum())/(len(data)*2),\n",
    "(data['3AM'].sum()+data['3PM'].sum())/(len(data)*2),\n",
    "(data['4AM'].sum()+data['4PM'].sum())/(len(data)*2),\n",
    "(data['5AM'].sum()+data['5PM'].sum())/(len(data)*2),\n",
    "data['6AM'].sum()/(len(data))]\n",
    "\n",
    "\n",
    "avg_day_notes_source = ColumnDataSource(data=dict(days = days, day_averages = day_averages, color = Spectral6))\n",
    "day_notes_figure = figure(x_range = days, y_range=(0,5), height=400, title=\"Average notes per day\",toolbar_location=None, tools=\"\")\n",
    "day_notes_figure.vbar(x='days', top='day_averages', width=0.9, color='color', legend_field=\"days\", source=avg_day_notes_source)\n",
    "\n",
    "day_notes_figure.xgrid.grid_line_color = None\n",
    "day_notes_figure.legend.orientation = \"horizontal\"\n",
    "day_notes_figure.legend.location = \"top_center\"\n",
    "\n",
    "show(day_notes_figure)\n"
   ]
  },
  {
   "cell_type": "markdown",
   "metadata": {},
   "source": [
    "Distribution of notes by ranges"
   ]
  },
  {
   "cell_type": "code",
   "execution_count": 36,
   "metadata": {},
   "outputs": [
    {
     "data": {
      "text/html": [
       "\n",
       "\n",
       "\n",
       "\n",
       "\n",
       "\n",
       "  <div class=\"bk-root\" id=\"aa158b42-7441-45b2-b6c6-45beafb2bebc\" data-root-id=\"3111\"></div>\n"
      ]
     },
     "metadata": {},
     "output_type": "display_data"
    },
    {
     "data": {
      "application/javascript": "(function(root) {\n  function embed_document(root) {\n    \n  const docs_json = {\"47dfc044-8e82-4bbe-ab01-36d5d473403f\":{\"defs\":[{\"extends\":null,\"module\":null,\"name\":\"ReactiveHTML1\",\"overrides\":[],\"properties\":[]},{\"extends\":null,\"module\":null,\"name\":\"FlexBox1\",\"overrides\":[],\"properties\":[{\"default\":\"flex-start\",\"kind\":null,\"name\":\"align_content\"},{\"default\":\"flex-start\",\"kind\":null,\"name\":\"align_items\"},{\"default\":\"row\",\"kind\":null,\"name\":\"flex_direction\"},{\"default\":\"wrap\",\"kind\":null,\"name\":\"flex_wrap\"},{\"default\":\"flex-start\",\"kind\":null,\"name\":\"justify_content\"}]},{\"extends\":null,\"module\":null,\"name\":\"GridStack1\",\"overrides\":[],\"properties\":[{\"default\":\"warn\",\"kind\":null,\"name\":\"mode\"},{\"default\":null,\"kind\":null,\"name\":\"ncols\"},{\"default\":null,\"kind\":null,\"name\":\"nrows\"},{\"default\":true,\"kind\":null,\"name\":\"allow_resize\"},{\"default\":true,\"kind\":null,\"name\":\"allow_drag\"},{\"default\":[],\"kind\":null,\"name\":\"state\"}]},{\"extends\":null,\"module\":null,\"name\":\"click1\",\"overrides\":[],\"properties\":[{\"default\":\"\",\"kind\":null,\"name\":\"terminal_output\"},{\"default\":\"\",\"kind\":null,\"name\":\"debug_name\"},{\"default\":0,\"kind\":null,\"name\":\"clears\"}]},{\"extends\":null,\"module\":null,\"name\":\"TemplateActions1\",\"overrides\":[],\"properties\":[{\"default\":0,\"kind\":null,\"name\":\"open_modal\"},{\"default\":0,\"kind\":null,\"name\":\"close_modal\"}]},{\"extends\":null,\"module\":null,\"name\":\"MaterialTemplateActions1\",\"overrides\":[],\"properties\":[{\"default\":0,\"kind\":null,\"name\":\"open_modal\"},{\"default\":0,\"kind\":null,\"name\":\"close_modal\"}]}],\"roots\":{\"references\":[{\"attributes\":{\"below\":[{\"id\":\"3122\"}],\"center\":[{\"id\":\"3125\"},{\"id\":\"3129\"},{\"id\":\"3151\"}],\"height\":400,\"left\":[{\"id\":\"3126\"}],\"renderers\":[{\"id\":\"3140\"}],\"title\":{\"id\":\"3112\"},\"toolbar\":{\"id\":\"3131\"},\"toolbar_location\":null,\"x_range\":{\"id\":\"3114\"},\"x_scale\":{\"id\":\"3118\"},\"y_range\":{\"id\":\"3116\"},\"y_scale\":{\"id\":\"3120\"}},\"id\":\"3111\",\"subtype\":\"Figure\",\"type\":\"Plot\"},{\"attributes\":{\"tools\":[{\"id\":\"3130\"}]},\"id\":\"3131\",\"type\":\"Toolbar\"},{\"attributes\":{},\"id\":\"3147\",\"type\":\"BasicTickFormatter\"},{\"attributes\":{\"coordinates\":null,\"formatter\":{\"id\":\"3147\"},\"group\":null,\"major_label_policy\":{\"id\":\"3148\"},\"ticker\":{\"id\":\"3123\"}},\"id\":\"3122\",\"type\":\"LinearAxis\"},{\"attributes\":{\"end_angle\":{\"expr\":{\"id\":\"3134\"}},\"fill_color\":{\"field\":\"color\"},\"line_color\":{\"value\":\"white\"},\"radius\":{\"value\":0.4},\"start_angle\":{\"expr\":{\"id\":\"3133\"}},\"x\":{\"value\":0},\"y\":{\"value\":1}},\"id\":\"3137\",\"type\":\"Wedge\"},{\"attributes\":{},\"id\":\"3148\",\"type\":\"AllLabels\"},{\"attributes\":{\"coordinates\":null,\"data_source\":{\"id\":\"3135\"},\"glyph\":{\"id\":\"3137\"},\"group\":null,\"hover_glyph\":null,\"muted_glyph\":{\"id\":\"3139\"},\"nonselection_glyph\":{\"id\":\"3138\"},\"view\":{\"id\":\"3141\"}},\"id\":\"3140\",\"type\":\"GlyphRenderer\"},{\"attributes\":{},\"id\":\"3120\",\"type\":\"LinearScale\"},{\"attributes\":{\"axis\":{\"id\":\"3122\"},\"coordinates\":null,\"group\":null,\"ticker\":null},\"id\":\"3125\",\"type\":\"Grid\"},{\"attributes\":{},\"id\":\"3144\",\"type\":\"BasicTickFormatter\"},{\"attributes\":{\"field\":\"angle\"},\"id\":\"3134\",\"type\":\"CumSum\"},{\"attributes\":{},\"id\":\"3118\",\"type\":\"LinearScale\"},{\"attributes\":{\"label\":{\"field\":\"range\"},\"renderers\":[{\"id\":\"3140\"}]},\"id\":\"3152\",\"type\":\"LegendItem\"},{\"attributes\":{},\"id\":\"3123\",\"type\":\"BasicTicker\"},{\"attributes\":{\"source\":{\"id\":\"3135\"}},\"id\":\"3141\",\"type\":\"CDSView\"},{\"attributes\":{},\"id\":\"3150\",\"type\":\"Selection\"},{\"attributes\":{\"field\":\"angle\",\"include_zero\":true},\"id\":\"3133\",\"type\":\"CumSum\"},{\"attributes\":{\"coordinates\":null,\"formatter\":{\"id\":\"3144\"},\"group\":null,\"major_label_policy\":{\"id\":\"3145\"},\"ticker\":{\"id\":\"3127\"}},\"id\":\"3126\",\"type\":\"LinearAxis\"},{\"attributes\":{\"end_angle\":{\"expr\":{\"id\":\"3134\"}},\"fill_alpha\":{\"value\":0.1},\"fill_color\":{\"field\":\"color\"},\"hatch_alpha\":{\"value\":0.1},\"line_alpha\":{\"value\":0.1},\"line_color\":{\"value\":\"white\"},\"radius\":{\"value\":0.4},\"start_angle\":{\"expr\":{\"id\":\"3133\"}},\"x\":{\"value\":0},\"y\":{\"value\":1}},\"id\":\"3138\",\"type\":\"Wedge\"},{\"attributes\":{\"data\":{\"angle\":{\"__ndarray__\":\"i6+zI4jVDECYYHsXtv/gP9Evh6zQPs0/A79a6Ce1/j8=\",\"dtype\":\"float64\",\"order\":\"little\",\"shape\":[4]},\"color\":[\"#3182bd\",\"#6baed6\",\"#9ecae1\",\"#c6dbef\"],\"index\":[0,1,2,3],\"range\":[\"5: Perfect implementation.\",\"3.5 - 4.9: Functional implementation with small problems.\",\"0.1 - 3.4: Implementation with serious problems (not working)\",\"0: Did not submit the work.\"],\"value\":[631,93,40,336]},\"selected\":{\"id\":\"3150\"},\"selection_policy\":{\"id\":\"3149\"}},\"id\":\"3135\",\"type\":\"ColumnDataSource\"},{\"attributes\":{},\"id\":\"3145\",\"type\":\"AllLabels\"},{\"attributes\":{\"coordinates\":null,\"group\":null,\"text\":\"Distribution of notes by ranges\"},\"id\":\"3112\",\"type\":\"Title\"},{\"attributes\":{\"start\":-0.5},\"id\":\"3114\",\"type\":\"Range1d\"},{\"attributes\":{\"callback\":null,\"tooltips\":\"@range: @value\"},\"id\":\"3130\",\"type\":\"HoverTool\"},{\"attributes\":{\"coordinates\":null,\"group\":null,\"items\":[{\"id\":\"3152\"}]},\"id\":\"3151\",\"type\":\"Legend\"},{\"attributes\":{},\"id\":\"3149\",\"type\":\"UnionRenderers\"},{\"attributes\":{\"axis\":{\"id\":\"3126\"},\"coordinates\":null,\"dimension\":1,\"group\":null,\"ticker\":null},\"id\":\"3129\",\"type\":\"Grid\"},{\"attributes\":{},\"id\":\"3116\",\"type\":\"DataRange1d\"},{\"attributes\":{},\"id\":\"3127\",\"type\":\"BasicTicker\"},{\"attributes\":{\"end_angle\":{\"expr\":{\"id\":\"3134\"}},\"fill_alpha\":{\"value\":0.2},\"fill_color\":{\"field\":\"color\"},\"hatch_alpha\":{\"value\":0.2},\"line_alpha\":{\"value\":0.2},\"line_color\":{\"value\":\"white\"},\"radius\":{\"value\":0.4},\"start_angle\":{\"expr\":{\"id\":\"3133\"}},\"x\":{\"value\":0},\"y\":{\"value\":1}},\"id\":\"3139\",\"type\":\"Wedge\"}],\"root_ids\":[\"3111\"]},\"title\":\"Bokeh Application\",\"version\":\"2.4.2\"}};\n  const render_items = [{\"docid\":\"47dfc044-8e82-4bbe-ab01-36d5d473403f\",\"root_ids\":[\"3111\"],\"roots\":{\"3111\":\"aa158b42-7441-45b2-b6c6-45beafb2bebc\"}}];\n  root.Bokeh.embed.embed_items_notebook(docs_json, render_items);\n\n  }\n  if (root.Bokeh !== undefined) {\n    embed_document(root);\n  } else {\n    let attempts = 0;\n    const timer = setInterval(function(root) {\n      if (root.Bokeh !== undefined) {\n        clearInterval(timer);\n        embed_document(root);\n      } else {\n        attempts++;\n        if (attempts > 100) {\n          clearInterval(timer);\n          console.log(\"Bokeh: ERROR: Unable to run BokehJS code because BokehJS library is missing\");\n        }\n      }\n    }, 10, root)\n  }\n})(window);",
      "application/vnd.bokehjs_exec.v0+json": ""
     },
     "metadata": {
      "application/vnd.bokehjs_exec.v0+json": {
       "id": "3111"
      }
     },
     "output_type": "display_data"
    },
    {
     "name": "stdout",
     "output_type": "stream",
     "text": [
      "{'5: Perfect implementation.': 631, '3.5 - 4.9: Functional implementation with small problems.': 93, '0.1 - 3.4: Implementation with serious problems (not working)': 40, '0: Did not submit the work.': 336}\n"
     ]
    }
   ],
   "source": [
    "note_ranges = {\n",
    "    '5: Perfect implementation.':0,\n",
    "    '3.5 - 4.9: Functional implementation with small problems.':0,\n",
    "    '0.1 - 3.4: Implementation with serious problems (not working)':0,\n",
    "    \"0: Did not submit the work.\": 0\n",
    "}\n",
    "concept_checks = ['1AM','1PM','2AM','2PM','3AM','3PM','4AM','4PM','5AM','5PM','6AM'] \n",
    "\n",
    "for index in data.index:\n",
    "    for concept in concept_checks:\n",
    "        grade = data.loc[index, concept]\n",
    "        if grade == 0:\n",
    "            note_ranges[\"0: Did not submit the work.\"] += 1\n",
    "        elif grade == 5:\n",
    "            note_ranges['5: Perfect implementation.'] += 1\n",
    "        elif grade in np.arange(3.5, 5):\n",
    "            note_ranges['3.5 - 4.9: Functional implementation with small problems.'] += 1\n",
    "        else:\n",
    "            note_ranges['0.1 - 3.4: Implementation with serious problems (not working)'] += 1\n",
    "\n",
    "note_dist_data = pd.Series(note_ranges).reset_index(name='value').rename(columns={'index': 'range'})\n",
    "note_dist_data['angle'] = note_dist_data['value']/note_dist_data['value'].sum() * 2*pi\n",
    "note_dist_data['color'] = Category20c[len(note_ranges)]\n",
    "\n",
    "pie_chart = figure(height=400, title=\"Distribution of notes by ranges\", toolbar_location=None,\n",
    "           tools=\"hover\", tooltips=\"@range: @value\", x_range=(-0.5, 1.0))\n",
    "\n",
    "pie_chart.wedge(x=0, y=1, radius=0.4,\n",
    "        start_angle=cumsum('angle', include_zero=True), end_angle=cumsum('angle'),\n",
    "        line_color=\"white\", fill_color='color', legend_field='range', source=note_dist_data)\n",
    "\n",
    "show(pie_chart)\n",
    "print(note_ranges)"
   ]
  },
  {
   "cell_type": "markdown",
   "metadata": {},
   "source": [
    "Notes per concept check"
   ]
  },
  {
   "cell_type": "code",
   "execution_count": 37,
   "metadata": {},
   "outputs": [
    {
     "data": {
      "text/html": [
       "\n",
       "\n",
       "\n",
       "\n",
       "\n",
       "\n",
       "  <div class=\"bk-root\" id=\"09f5e1ca-2288-4d9a-ac42-2dba6f4ac442\" data-root-id=\"3334\"></div>\n"
      ]
     },
     "metadata": {},
     "output_type": "display_data"
    },
    {
     "data": {
      "application/javascript": "(function(root) {\n  function embed_document(root) {\n    \n  const docs_json = {\"d9d46b96-12a2-421e-961a-aec20abfcf82\":{\"defs\":[{\"extends\":null,\"module\":null,\"name\":\"ReactiveHTML1\",\"overrides\":[],\"properties\":[]},{\"extends\":null,\"module\":null,\"name\":\"FlexBox1\",\"overrides\":[],\"properties\":[{\"default\":\"flex-start\",\"kind\":null,\"name\":\"align_content\"},{\"default\":\"flex-start\",\"kind\":null,\"name\":\"align_items\"},{\"default\":\"row\",\"kind\":null,\"name\":\"flex_direction\"},{\"default\":\"wrap\",\"kind\":null,\"name\":\"flex_wrap\"},{\"default\":\"flex-start\",\"kind\":null,\"name\":\"justify_content\"}]},{\"extends\":null,\"module\":null,\"name\":\"GridStack1\",\"overrides\":[],\"properties\":[{\"default\":\"warn\",\"kind\":null,\"name\":\"mode\"},{\"default\":null,\"kind\":null,\"name\":\"ncols\"},{\"default\":null,\"kind\":null,\"name\":\"nrows\"},{\"default\":true,\"kind\":null,\"name\":\"allow_resize\"},{\"default\":true,\"kind\":null,\"name\":\"allow_drag\"},{\"default\":[],\"kind\":null,\"name\":\"state\"}]},{\"extends\":null,\"module\":null,\"name\":\"click1\",\"overrides\":[],\"properties\":[{\"default\":\"\",\"kind\":null,\"name\":\"terminal_output\"},{\"default\":\"\",\"kind\":null,\"name\":\"debug_name\"},{\"default\":0,\"kind\":null,\"name\":\"clears\"}]},{\"extends\":null,\"module\":null,\"name\":\"TemplateActions1\",\"overrides\":[],\"properties\":[{\"default\":0,\"kind\":null,\"name\":\"open_modal\"},{\"default\":0,\"kind\":null,\"name\":\"close_modal\"}]},{\"extends\":null,\"module\":null,\"name\":\"MaterialTemplateActions1\",\"overrides\":[],\"properties\":[{\"default\":0,\"kind\":null,\"name\":\"open_modal\"},{\"default\":0,\"kind\":null,\"name\":\"close_modal\"}]}],\"roots\":{\"references\":[{\"attributes\":{\"below\":[{\"id\":\"3345\"}],\"center\":[{\"id\":\"3347\"},{\"id\":\"3351\"},{\"id\":\"3368\"}],\"height\":400,\"left\":[{\"id\":\"3348\"}],\"renderers\":[{\"id\":\"3357\"}],\"title\":{\"id\":\"3335\"},\"toolbar\":{\"id\":\"3352\"},\"toolbar_location\":null,\"x_range\":{\"id\":\"3337\"},\"x_scale\":{\"id\":\"3341\"},\"y_range\":{\"id\":\"3339\"},\"y_scale\":{\"id\":\"3343\"}},\"id\":\"3334\",\"subtype\":\"Figure\",\"type\":\"Plot\"},{\"attributes\":{\"source\":{\"id\":\"3333\"}},\"id\":\"3358\",\"type\":\"CDSView\"},{\"attributes\":{\"fill_alpha\":{\"value\":0.2},\"fill_color\":{\"field\":\"color\"},\"hatch_alpha\":{\"value\":0.2},\"hatch_color\":{\"field\":\"color\"},\"line_alpha\":{\"value\":0.2},\"line_color\":{\"field\":\"color\"},\"top\":{\"field\":\"concept_averages\"},\"width\":{\"value\":0.45},\"x\":{\"field\":\"concept_checks\"}},\"id\":\"3356\",\"type\":\"VBar\"},{\"attributes\":{\"fill_color\":{\"field\":\"color\"},\"hatch_color\":{\"field\":\"color\"},\"line_color\":{\"field\":\"color\"},\"top\":{\"field\":\"concept_averages\"},\"width\":{\"value\":0.45},\"x\":{\"field\":\"concept_checks\"}},\"id\":\"3354\",\"type\":\"VBar\"},{\"attributes\":{},\"id\":\"3349\",\"type\":\"BasicTicker\"},{\"attributes\":{\"axis\":{\"id\":\"3348\"},\"coordinates\":null,\"dimension\":1,\"group\":null,\"ticker\":null},\"id\":\"3351\",\"type\":\"Grid\"},{\"attributes\":{},\"id\":\"3366\",\"type\":\"UnionRenderers\"},{\"attributes\":{\"coordinates\":null,\"formatter\":{\"id\":\"3361\"},\"group\":null,\"major_label_policy\":{\"id\":\"3362\"},\"ticker\":{\"id\":\"3349\"}},\"id\":\"3348\",\"type\":\"LinearAxis\"},{\"attributes\":{},\"id\":\"3362\",\"type\":\"AllLabels\"},{\"attributes\":{\"factors\":[\"1AM\",\"1PM\",\"2AM\",\"2PM\",\"3AM\",\"3PM\",\"4AM\",\"4PM\",\"5AM\",\"5PM\",\"6AM\"]},\"id\":\"3337\",\"type\":\"FactorRange\"},{\"attributes\":{},\"id\":\"3361\",\"type\":\"BasicTickFormatter\"},{\"attributes\":{\"end\":5},\"id\":\"3339\",\"type\":\"Range1d\"},{\"attributes\":{},\"id\":\"3352\",\"type\":\"Toolbar\"},{\"attributes\":{},\"id\":\"3346\",\"type\":\"CategoricalTicker\"},{\"attributes\":{\"label\":{\"field\":\"concept_averages\"},\"renderers\":[{\"id\":\"3357\"}]},\"id\":\"3369\",\"type\":\"LegendItem\"},{\"attributes\":{},\"id\":\"3364\",\"type\":\"CategoricalTickFormatter\"},{\"attributes\":{\"coordinates\":null,\"group\":null,\"items\":[{\"id\":\"3369\"}],\"location\":\"top_center\",\"orientation\":\"horizontal\"},\"id\":\"3368\",\"type\":\"Legend\"},{\"attributes\":{},\"id\":\"3367\",\"type\":\"Selection\"},{\"attributes\":{\"fill_alpha\":{\"value\":0.1},\"fill_color\":{\"field\":\"color\"},\"hatch_alpha\":{\"value\":0.1},\"hatch_color\":{\"field\":\"color\"},\"line_alpha\":{\"value\":0.1},\"line_color\":{\"field\":\"color\"},\"top\":{\"field\":\"concept_averages\"},\"width\":{\"value\":0.45},\"x\":{\"field\":\"concept_checks\"}},\"id\":\"3355\",\"type\":\"VBar\"},{\"attributes\":{},\"id\":\"3343\",\"type\":\"LinearScale\"},{\"attributes\":{},\"id\":\"3365\",\"type\":\"AllLabels\"},{\"attributes\":{\"axis\":{\"id\":\"3345\"},\"coordinates\":null,\"grid_line_color\":null,\"group\":null,\"ticker\":null},\"id\":\"3347\",\"type\":\"Grid\"},{\"attributes\":{\"coordinates\":null,\"group\":null,\"text\":\"Average notes per concept check\"},\"id\":\"3335\",\"type\":\"Title\"},{\"attributes\":{},\"id\":\"3341\",\"type\":\"CategoricalScale\"},{\"attributes\":{\"coordinates\":null,\"data_source\":{\"id\":\"3333\"},\"glyph\":{\"id\":\"3354\"},\"group\":null,\"hover_glyph\":null,\"muted_glyph\":{\"id\":\"3356\"},\"nonselection_glyph\":{\"id\":\"3355\"},\"view\":{\"id\":\"3358\"}},\"id\":\"3357\",\"type\":\"GlyphRenderer\"},{\"attributes\":{\"data\":{\"color\":[\"#3182bd\",\"#6baed6\",\"#9ecae1\",\"#c6dbef\",\"#e6550d\",\"#fd8d3c\",\"#fdae6b\",\"#fdd0a2\",\"#31a354\",\"#74c476\",\"#a1d99b\"],\"concept_averages\":[1.4,3.215,3.918,4.23,4.171,3.67,4.119,1.91,3.135,3.389,3.056],\"concept_checks\":[\"1AM\",\"1PM\",\"2AM\",\"2PM\",\"3AM\",\"3PM\",\"4AM\",\"4PM\",\"5AM\",\"5PM\",\"6AM\"]},\"selected\":{\"id\":\"3367\"},\"selection_policy\":{\"id\":\"3366\"}},\"id\":\"3333\",\"type\":\"ColumnDataSource\"},{\"attributes\":{\"coordinates\":null,\"formatter\":{\"id\":\"3364\"},\"group\":null,\"major_label_policy\":{\"id\":\"3365\"},\"ticker\":{\"id\":\"3346\"}},\"id\":\"3345\",\"type\":\"CategoricalAxis\"}],\"root_ids\":[\"3334\"]},\"title\":\"Bokeh Application\",\"version\":\"2.4.2\"}};\n  const render_items = [{\"docid\":\"d9d46b96-12a2-421e-961a-aec20abfcf82\",\"root_ids\":[\"3334\"],\"roots\":{\"3334\":\"09f5e1ca-2288-4d9a-ac42-2dba6f4ac442\"}}];\n  root.Bokeh.embed.embed_items_notebook(docs_json, render_items);\n\n  }\n  if (root.Bokeh !== undefined) {\n    embed_document(root);\n  } else {\n    let attempts = 0;\n    const timer = setInterval(function(root) {\n      if (root.Bokeh !== undefined) {\n        clearInterval(timer);\n        embed_document(root);\n      } else {\n        attempts++;\n        if (attempts > 100) {\n          clearInterval(timer);\n          console.log(\"Bokeh: ERROR: Unable to run BokehJS code because BokehJS library is missing\");\n        }\n      }\n    }, 10, root)\n  }\n})(window);",
      "application/vnd.bokehjs_exec.v0+json": ""
     },
     "metadata": {
      "application/vnd.bokehjs_exec.v0+json": {
       "id": "3334"
      }
     },
     "output_type": "display_data"
    }
   ],
   "source": [
    "#reintroduced here to make the cell easier to run on its own.\n",
    "concept_checks = ['1AM','1PM','2AM','2PM','3AM','3PM','4AM','4PM','5AM','5PM','6AM'] \n",
    "\n",
    "concept_averages = []\n",
    "for concept in concept_checks:\n",
    "    concept_averages.append(data[concept].sum()/(len(data)))\n",
    "\n",
    "avg_concept_notes_source = ColumnDataSource(data=dict(concept_checks = concept_checks, concept_averages = concept_averages, color = Category20c[len(concept_checks)]))\n",
    "concept_notes_figure = figure(x_range = concept_checks, y_range=(0,5), height=400, title=\"Average notes per concept check\",toolbar_location=None, tools=\"\")\n",
    "concept_notes_figure.vbar(x='concept_checks', top='concept_averages', width=0.45, color='color', legend_field=\"concept_averages\", source=avg_concept_notes_source)\n",
    "\n",
    "concept_notes_figure.xgrid.grid_line_color = None\n",
    "concept_notes_figure.legend.orientation = \"horizontal\"\n",
    "concept_notes_figure.legend.location = \"top_center\"\n",
    "\n",
    "show(concept_notes_figure)"
   ]
  },
  {
   "cell_type": "markdown",
   "metadata": {},
   "source": [
    "Final note curve graph"
   ]
  },
  {
   "cell_type": "code",
   "execution_count": null,
   "metadata": {},
   "outputs": [],
   "source": []
  },
  {
   "cell_type": "markdown",
   "metadata": {},
   "source": [
    "Web Server Display Template"
   ]
  },
  {
   "cell_type": "code",
   "execution_count": 38,
   "metadata": {},
   "outputs": [
    {
     "ename": "SyntaxError",
     "evalue": "invalid syntax (1894955692.py, line 7)",
     "output_type": "error",
     "traceback": [
      "\u001b[1;36m  Input \u001b[1;32mIn [38]\u001b[1;36m\u001b[0m\n\u001b[1;33m    main=[pn.Column(pn.Row(,pn.pane.Bokeh(day_notes_figure))),\u001b[0m\n\u001b[1;37m                           ^\u001b[0m\n\u001b[1;31mSyntaxError\u001b[0m\u001b[1;31m:\u001b[0m invalid syntax\n"
     ]
    }
   ],
   "source": [
    "#Layout using Template\n",
    "template = pn.template.FastListTemplate(\n",
    "    title='CS Bridge - Initial Findings',\n",
    "    sidebar=[pn.pane.Markdown(\"CS Bridge -Uniandes\")\n",
    "    \n",
    "    ], \n",
    "    main=[pn.Column(pn.Row(pn.pane.Bokeh(concept_notes_figure),pn.pane.Bokeh(day_notes_figure))), \n",
    "        pn.Column(pn.Row(pn.pane.Bokeh(pie_chart)))],\n",
    "    accent_base_color=\"#2f3e46\",\n",
    "    header_background=\"#354f52\",\n",
    ")\n",
    "template.show()"
   ]
  }
 ],
 "metadata": {
  "kernelspec": {
   "display_name": "Python 3.10.6 64-bit",
   "language": "python",
   "name": "python3"
  },
  "language_info": {
   "codemirror_mode": {
    "name": "ipython",
    "version": 3
   },
   "file_extension": ".py",
   "mimetype": "text/x-python",
   "name": "python",
   "nbconvert_exporter": "python",
   "pygments_lexer": "ipython3",
   "version": "3.10.6"
  },
  "vscode": {
   "interpreter": {
    "hash": "6847c98a8f86b01c6a19c518cd2f366693b80566b266804d5ca763cbb223f52b"
   }
  }
 },
 "nbformat": 4,
 "nbformat_minor": 0
}
