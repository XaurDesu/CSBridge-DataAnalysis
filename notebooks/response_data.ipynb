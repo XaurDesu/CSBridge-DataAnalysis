{
 "cells": [
  {
   "cell_type": "markdown",
   "metadata": {},
   "source": [
    "# Data Gathering"
   ]
  },
  {
   "cell_type": "code",
   "execution_count": 34,
   "metadata": {},
   "outputs": [
    {
     "data": {
      "text/plain": [
       "Index(['name', 'Edad', 'gender', 'Nombre de su colegio', 'programmed',\n",
       "       '¿Cómo fue su experiencia aprendiendo a programar? ( 1 siendo la calificación más baja y 5 la calificación más alta)',\n",
       "       '¿Cuáles de estos conceptos le enseñaron? (marque todos los que apliquen)',\n",
       "       '¿En qué lenguaje ha programado?',\n",
       "       'Por favor identifique qué tan de acuerdo está con las siguientes afirmaciones [Yo creo que puedo aprender a programar]',\n",
       "       'Por favor identifique qué tan de acuerdo está con las siguientes afirmaciones [Yo creo que seré bueno/a programando]',\n",
       "       'Por favor identifique qué tan de acuerdo está con las siguientes afirmaciones [Aprender a programar es divertido]',\n",
       "       'Por favor identifique qué tan de acuerdo está con las siguientes afirmaciones [El contenido de este curso va a ser valioso para mi futuro]',\n",
       "       'Por favor identifique qué tan de acuerdo está con las siguientes afirmaciones [Para aprender a programar se necesita una habilidad innata con la que unas personas no nacen]',\n",
       "       'Por favor identifique qué tan de acuerdo está con las siguientes afirmaciones [Aprender a programar demanda mucho esfuerzo y trabajo]',\n",
       "       'Por favor identifique qué tan de acuerdo está con las siguientes afirmaciones [Me interesa aprender a programar]',\n",
       "       '¿Por qué decidió asistir al campo cs bridge? ',\n",
       "       '¿Cuándo piensa en Programación, qué se le viene a la mente?',\n",
       "       '¿Cuál de estos términos asocia a la programación? (Seleccione todos los que apliquen)',\n",
       "       '¿Alguien le ha animado a estudiar algo relacionado a la tecnología o la programación?',\n",
       "       '¿Qué personas lo han motivado a estudiar algo relacionado a la tecnología o la programación? (seleccione todos los que apliquen)',\n",
       "       '¿En qué le gustaría trabajar cuando sea grande?',\n",
       "       '¿Se ha planteado estudiar una carrera universitaria relacionada a la tecnología o la programación? ',\n",
       "       ' ¿Por qué se ha planteado estudiar una carrera universitaria relacionada a la tecnología o la programación? (Seleccione todos los que apliquen)     \\t',\n",
       "       'Programar es una habilidad importante para (Seleccione todos los que apliquen)',\n",
       "       ' ¿Por qué no se ha planteado estudiar una carrera universitaria relacionada a la tecnología o la programación? (Seleccione todos los que apliquen)     \\t',\n",
       "       'Programar es una habilidad importante para (Seleccione todos los que apliquen).1'],\n",
       "      dtype='object')"
      ]
     },
     "execution_count": 34,
     "metadata": {},
     "output_type": "execute_result"
    }
   ],
   "source": [
    "#imports\n",
    "import pandas as pd\n",
    "import numpy as np\n",
    "import panel as pn\n",
    "\n",
    "\n",
    "from math import pi\n",
    "from statistics import mean\n",
    "from bokeh.transform import cumsum\n",
    "from bokeh.transform import factor_cmap\n",
    "from bokeh.models import ColumnDataSource, FactorRange\n",
    "from bokeh.palettes import Category20c\n",
    "from bokeh.plotting import figure, show\n",
    "\n",
    "from fractions import Fraction\n",
    "\n",
    "response = pd.read_excel('../data/responses.xlsx')\n",
    "response.rename(columns={\n",
    "    'Nombre completo del estudiante':'name',\n",
    "    'Género':'gender',\n",
    "    'programmed ':'programmed'\n",
    "}, inplace = True)\n",
    "response.set_index('name')\n",
    "response.drop(columns={\n",
    "    'Timestamp'\n",
    "}, axis=1, inplace=True)\n",
    "response.columns"
   ]
  },
  {
   "cell_type": "code",
   "execution_count": 35,
   "metadata": {},
   "outputs": [
    {
     "name": "stdout",
     "output_type": "stream",
     "text": [
      "MALE RESULTS\n",
      "HAS PROGRAMMED\n",
      "57.14285714285714%\n",
      "HAS NOT PROGRAMMED\n",
      "42.857142857142854%\n",
      "FEMALE RESULTS\n",
      "HAS PROGRAMMED\n",
      "52.17391304347826\n",
      "HAS NOT PROGRAMMED\n",
      "0.4782608695652174\n"
     ]
    }
   ],
   "source": [
    "def mf_experience(data):\n",
    "    male_data = data.query(\"gender=='Masculino'\")\n",
    "    has_programmed_male = male_data.query(\"programmed=='Sí'\")\n",
    "    has_not_programmed_male = male_data.query(\"programmed=='Nunca'\")\n",
    "    print(\"MALE RESULTS\")\n",
    "    print(\"HAS PROGRAMMED\")\n",
    "    print(str((len(has_programmed_male)/len(male_data))*100)+\"%\")\n",
    "    print(\"HAS NOT PROGRAMMED\")\n",
    "    print(str((len(has_not_programmed_male)/len(male_data))*100)+\"%\")\n",
    "\n",
    "\n",
    "    female_data = data.query(\"gender=='Femenino'\")\n",
    "    has_programmed_female = female_data.query(\"programmed=='Sí'\")\n",
    "    has_not_programmed_female = female_data.query(\"programmed=='Nunca'\")\n",
    "    print(\"FEMALE RESULTS\")\n",
    "    print(\"HAS PROGRAMMED\")\n",
    "    print((len(has_programmed_female)/len(female_data))*100)\n",
    "    print(\"HAS NOT PROGRAMMED\")\n",
    "    print((len(has_not_programmed_female)/len(female_data))*100)\n",
    "\n",
    "mf_experience(response)"
   ]
  }
 ],
 "metadata": {
  "kernelspec": {
   "display_name": "Python 3.11.0 64-bit",
   "language": "python",
   "name": "python3"
  },
  "language_info": {
   "codemirror_mode": {
    "name": "ipython",
    "version": 3
   },
   "file_extension": ".py",
   "mimetype": "text/x-python",
   "name": "python",
   "nbconvert_exporter": "python",
   "pygments_lexer": "ipython3",
   "version": "3.11.0"
  },
  "orig_nbformat": 4,
  "vscode": {
   "interpreter": {
    "hash": "e7370f93d1d0cde622a1f8e1c04877d8463912d04d973331ad4851f04de6915a"
   }
  }
 },
 "nbformat": 4,
 "nbformat_minor": 2
}
