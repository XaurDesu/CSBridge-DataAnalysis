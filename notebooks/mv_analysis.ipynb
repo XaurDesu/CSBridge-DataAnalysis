{
 "cells": [
  {
   "cell_type": "code",
   "execution_count": 76,
   "metadata": {},
   "outputs": [],
   "source": [
    "#imports\n",
    "import pandas as pd\n",
    "import numpy as np\n",
    "\n",
    "from math import pi\n",
    "from statistics import mean\n",
    "from bokeh.transform import cumsum\n",
    "from bokeh.transform import factor_cmap\n",
    "from bokeh.models import ColumnDataSource, FactorRange\n",
    "from bokeh.palettes import Category20c\n",
    "from bokeh.plotting import figure, show\n",
    "from collections import Counter\n",
    "import plotly.graph_objects as go\n",
    "import plotly.express as px\n",
    "\n",
    "from fractions import Fraction\n",
    "concept_checks = ['1AM','1PM','2AM','2PM','3AM','3PM','4AM','4PM','5AM','5PM','6AM']\n",
    "\n",
    "#data gathering\n",
    "notes = pd.read_excel('../data/all_sections_notes.xlsx')\n",
    "student_data = pd.read_excel('../data/student_information_filtered.xlsx')"
   ]
  },
  {
   "cell_type": "markdown",
   "metadata": {},
   "source": [
    "## Data Gathering"
   ]
  },
  {
   "cell_type": "code",
   "execution_count": 77,
   "metadata": {},
   "outputs": [
    {
     "data": {
      "text/plain": [
       "Index(['user', 'Last Name', 'First Name', 'sec', '1AM', '1PM', '2AM', '2PM',\n",
       "       '3AM', '3PM', '4AM', '4PM', 'week_1_numerator', 'week_1_denominator',\n",
       "       '5PM', '5AM', '6AM',\n",
       "       'Entrega de la Final del curso Points Grade <Numérico Puntos máx.:5 Categoría:Semana 2\\Week 2>',\n",
       "       'week_2_numerator', 'week_2_denominator', 'final_numerator',\n",
       "       'final_denominator', 'NUMERO', 'ESTUDIANTE', 'Asistió', 'GENERO',\n",
       "       'COLEGIO', 'GRADO'],\n",
       "      dtype='object')"
      ]
     },
     "execution_count": 77,
     "metadata": {},
     "output_type": "execute_result"
    }
   ],
   "source": [
    "student_data = student_data[student_data['NUMERO'].notna()]\n",
    "student_data.drop(columns={'EPS', 'Comentarios','Falta por consentimiento'}, axis=1, inplace=True)\n",
    "student_data['DOCUMENTO '] = pd.to_numeric(student_data['DOCUMENTO '])\n",
    "student_data.columns\n",
    "\n",
    "#We rename the columns to make them easier to work with\n",
    "notes.rename(columns={\n",
    "    #WEEK 1\n",
    "    'OrgDefinedId':'user',\n",
    "    'Secciones':'sec',\n",
    "    'Entrega de la mañana D1 Points Grade <Numérico Puntos máx.:5 Categoría:Semana 1\\Week1>':'1AM',\n",
    "    'Entrega de la tarde D1 Points Grade <Numérico Puntos máx.:5 Categoría:Semana 1\\Week1>':'1PM',\n",
    "    'Entrega de la mañana (D2) Points Grade <Numérico Puntos máx.:5 Categoría:Semana 1\\Week1>':'2AM',\n",
    "    'Entrega de la tarde (D2) Points Grade <Numérico Puntos máx.:5 Categoría:Semana 1\\Week1>':'2PM',\n",
    "    'Entrega de la mañana (D3) Points Grade <Numérico Puntos máx.:5 Categoría:Semana 1\\Week1>':'3AM',\n",
    "    'Entrega de la tarde (D3) Points Grade <Numérico Puntos máx.:5 Categoría:Semana 1\\Week1>':'3PM',\n",
    "    'Entrega de la mañana (D4) Points Grade <Numérico Puntos máx.:5 Categoría:Semana 1\\Week1>':'4AM',\n",
    "    'Entrega de la tarde (D4) Points Grade <Numérico Puntos máx.:5 Categoría:Semana 1\\Week1>':'4PM',\n",
    "\n",
    "    'Semana 1\\Week1 Subtotal Numerator':'week_1_numerator',\n",
    "    'Semana 1\\Week1 Subtotal Denominator':'week_1_denominator',\n",
    "    \n",
    "    #WEEK 2\n",
    "    'Entrega de la tarde (D5) Points Grade <Numérico Puntos máx.:5 Categoría:Semana 2\\Week 2>':'5PM',\n",
    "    'Entrega de la mañana (D5) Points Grade <Numérico Puntos máx.:5 Categoría:Semana 2\\Week 2>':'5AM',\n",
    "    'Entrega de la mañana (D6) Points Grade <Numérico Puntos máx.:5 Categoría:Semana 2\\Week 2>':'6AM',\n",
    "\n",
    "    'Semana 2\\Week 2 Subtotal Numerator':'week_2_numerator',\n",
    "    'Semana 2\\Week 2 Subtotal Denominator':'week_2_denominator',\n",
    "\n",
    "    'Calculated Final Grade Numerator':'final_numerator',\n",
    "    'Calculated Final Grade Denominator':'final_denominator'\n",
    "}, inplace = True)\n",
    "\n",
    "#we change the type to a numeric float64 from 'object'\n",
    "#Week 1\n",
    "notes['1AM'] = pd.to_numeric(notes['1AM'])\n",
    "notes['1PM'] = pd.to_numeric(notes['1PM'])\n",
    "notes['2AM'] = pd.to_numeric(notes['2AM'])\n",
    "notes['2PM'] = pd.to_numeric(notes['2PM'])\n",
    "notes['3AM'] = pd.to_numeric(notes['3AM'])\n",
    "notes['3PM'] = pd.to_numeric(notes['3PM'])\n",
    "notes['4AM'] = pd.to_numeric(notes['4AM'])\n",
    "notes['4PM'] = pd.to_numeric(notes['4PM'])\n",
    "#Week 2\n",
    "notes['5AM'] = pd.to_numeric(notes['5AM'])\n",
    "notes['5PM'] = pd.to_numeric(notes['5PM'])\n",
    "notes['6AM'] = pd.to_numeric(notes['6AM'])\n",
    "\n",
    "\n",
    "\n",
    "notes['sec'].replace(['Sección No. 1', 'Sección No. 2', 'Sección No. 3','Sección No. 4','Sección No. 5','Sección No. 6','Sección No. 7',\n",
    "'Sección No. 8','Sección No. 9','Sección No. 10 - Las morcillitas'], [1,2,3,4,5,6,7,8,9,10], inplace=True)\n",
    "\n",
    "notes.fillna(0.0, inplace=True)\n",
    "notes['user'] = pd.to_numeric(notes['user'])\n",
    "\n",
    "notes.drop(columns={'Adjusted Final Grade Numerator', 'Adjusted Final Grade Denominator', 'Username'}, axis=1, inplace=True)\n",
    "\n",
    "data = pd.merge(notes, student_data, how='inner', left_on='user', right_on='DOCUMENTO ')\n",
    "\n",
    "data.drop(columns={'EMAIL ESTUDIANTE',\n",
    "       'CORREO ACUDIENTE', 'ESPAÑOL', 'MATEMATICAS', 'PROMEDIO NOTAS',\n",
    "       'ESCALA', 'PUNTAJE', 'RESULTADO', 'EMAIL CONFIRMACION ','CSBRIDGE SEC', 'Email','DOCUMENTO '}, axis=1, inplace=True)\n",
    "\n",
    "#we recalculate the numerator and denominator for every student, as the data didn't take NaN into account.\n",
    "for index in data.index:\n",
    "        #week 1\n",
    "        a = (sum([data.loc[index, '1AM'],\n",
    "        data.loc[index, '1PM'],\n",
    "        data.loc[index, '2AM'],\n",
    "        data.loc[index, '2PM'],\n",
    "        data.loc[index, '3AM'],\n",
    "        data.loc[index, '3PM'],\n",
    "        data.loc[index, '4AM'],\n",
    "        data.loc[index, '4PM']]))\n",
    "        b = 8.0\n",
    "\n",
    "        data.loc[index, 'week_1_numerator'] = Fraction(a/b).numerator\n",
    "        data.loc[index, 'week_1_denominator'] = Fraction(a/b).denominator\n",
    "\n",
    "        #week 2\n",
    "        a = (sum([data.loc[index, '5AM'],\n",
    "                data.loc[index, '5PM'],\n",
    "                data.loc[index, '6AM']]))\n",
    "        b = 3.0\n",
    "\n",
    "        data.loc[index, 'week_2_numerator'] = Fraction(a/b).numerator\n",
    "        data.loc[index, 'week_2_denominator'] = Fraction(a/b).denominator\n",
    "\n",
    "        #final values, this operation might come as redundant at first, but it is quite important for final averages. Either way, i might \n",
    "        #optimize it in the future.\n",
    "        a = (sum([data.loc[index, '1AM'],\n",
    "        data.loc[index, '1PM'],\n",
    "        data.loc[index, '2AM'],\n",
    "        data.loc[index, '2PM'],\n",
    "        data.loc[index, '3AM'],\n",
    "        data.loc[index, '3PM'],\n",
    "        data.loc[index, '4AM'],\n",
    "        data.loc[index, '4PM'],\n",
    "        data.loc[index, '5AM'],\n",
    "        data.loc[index, '5PM'],\n",
    "        data.loc[index, '6AM']]))\n",
    "        b = 11.0\n",
    "        \n",
    "        data.loc[index, 'final_numerator'] = Fraction(a/b).numerator\n",
    "        data.loc[index, 'final_denominator'] = Fraction(a/b).denominator\n",
    "\n",
    "data.columns\n"
   ]
  },
  {
   "cell_type": "markdown",
   "metadata": {},
   "source": [
    "# Five-Zero Majority"
   ]
  },
  {
   "cell_type": "code",
   "execution_count": 78,
   "metadata": {},
   "outputs": [
    {
     "name": "stdout",
     "output_type": "stream",
     "text": [
      "65.65656565656566\n",
      "18.181818181818183\n"
     ]
    },
    {
     "data": {
      "application/vnd.plotly.v1+json": {
       "config": {
        "plotlyServerURL": "https://plot.ly"
       },
       "data": [
        {
         "type": "bar",
         "x": [
          "Five Majority",
          "Zero Majority"
         ],
         "y": [
          65.65656565656566,
          18.181818181818183
         ]
        }
       ],
       "layout": {
        "template": {
         "data": {
          "bar": [
           {
            "error_x": {
             "color": "#2a3f5f"
            },
            "error_y": {
             "color": "#2a3f5f"
            },
            "marker": {
             "line": {
              "color": "#E5ECF6",
              "width": 0.5
             },
             "pattern": {
              "fillmode": "overlay",
              "size": 10,
              "solidity": 0.2
             }
            },
            "type": "bar"
           }
          ],
          "barpolar": [
           {
            "marker": {
             "line": {
              "color": "#E5ECF6",
              "width": 0.5
             },
             "pattern": {
              "fillmode": "overlay",
              "size": 10,
              "solidity": 0.2
             }
            },
            "type": "barpolar"
           }
          ],
          "carpet": [
           {
            "aaxis": {
             "endlinecolor": "#2a3f5f",
             "gridcolor": "white",
             "linecolor": "white",
             "minorgridcolor": "white",
             "startlinecolor": "#2a3f5f"
            },
            "baxis": {
             "endlinecolor": "#2a3f5f",
             "gridcolor": "white",
             "linecolor": "white",
             "minorgridcolor": "white",
             "startlinecolor": "#2a3f5f"
            },
            "type": "carpet"
           }
          ],
          "choropleth": [
           {
            "colorbar": {
             "outlinewidth": 0,
             "ticks": ""
            },
            "type": "choropleth"
           }
          ],
          "contour": [
           {
            "colorbar": {
             "outlinewidth": 0,
             "ticks": ""
            },
            "colorscale": [
             [
              0,
              "#0d0887"
             ],
             [
              0.1111111111111111,
              "#46039f"
             ],
             [
              0.2222222222222222,
              "#7201a8"
             ],
             [
              0.3333333333333333,
              "#9c179e"
             ],
             [
              0.4444444444444444,
              "#bd3786"
             ],
             [
              0.5555555555555556,
              "#d8576b"
             ],
             [
              0.6666666666666666,
              "#ed7953"
             ],
             [
              0.7777777777777778,
              "#fb9f3a"
             ],
             [
              0.8888888888888888,
              "#fdca26"
             ],
             [
              1,
              "#f0f921"
             ]
            ],
            "type": "contour"
           }
          ],
          "contourcarpet": [
           {
            "colorbar": {
             "outlinewidth": 0,
             "ticks": ""
            },
            "type": "contourcarpet"
           }
          ],
          "heatmap": [
           {
            "colorbar": {
             "outlinewidth": 0,
             "ticks": ""
            },
            "colorscale": [
             [
              0,
              "#0d0887"
             ],
             [
              0.1111111111111111,
              "#46039f"
             ],
             [
              0.2222222222222222,
              "#7201a8"
             ],
             [
              0.3333333333333333,
              "#9c179e"
             ],
             [
              0.4444444444444444,
              "#bd3786"
             ],
             [
              0.5555555555555556,
              "#d8576b"
             ],
             [
              0.6666666666666666,
              "#ed7953"
             ],
             [
              0.7777777777777778,
              "#fb9f3a"
             ],
             [
              0.8888888888888888,
              "#fdca26"
             ],
             [
              1,
              "#f0f921"
             ]
            ],
            "type": "heatmap"
           }
          ],
          "heatmapgl": [
           {
            "colorbar": {
             "outlinewidth": 0,
             "ticks": ""
            },
            "colorscale": [
             [
              0,
              "#0d0887"
             ],
             [
              0.1111111111111111,
              "#46039f"
             ],
             [
              0.2222222222222222,
              "#7201a8"
             ],
             [
              0.3333333333333333,
              "#9c179e"
             ],
             [
              0.4444444444444444,
              "#bd3786"
             ],
             [
              0.5555555555555556,
              "#d8576b"
             ],
             [
              0.6666666666666666,
              "#ed7953"
             ],
             [
              0.7777777777777778,
              "#fb9f3a"
             ],
             [
              0.8888888888888888,
              "#fdca26"
             ],
             [
              1,
              "#f0f921"
             ]
            ],
            "type": "heatmapgl"
           }
          ],
          "histogram": [
           {
            "marker": {
             "pattern": {
              "fillmode": "overlay",
              "size": 10,
              "solidity": 0.2
             }
            },
            "type": "histogram"
           }
          ],
          "histogram2d": [
           {
            "colorbar": {
             "outlinewidth": 0,
             "ticks": ""
            },
            "colorscale": [
             [
              0,
              "#0d0887"
             ],
             [
              0.1111111111111111,
              "#46039f"
             ],
             [
              0.2222222222222222,
              "#7201a8"
             ],
             [
              0.3333333333333333,
              "#9c179e"
             ],
             [
              0.4444444444444444,
              "#bd3786"
             ],
             [
              0.5555555555555556,
              "#d8576b"
             ],
             [
              0.6666666666666666,
              "#ed7953"
             ],
             [
              0.7777777777777778,
              "#fb9f3a"
             ],
             [
              0.8888888888888888,
              "#fdca26"
             ],
             [
              1,
              "#f0f921"
             ]
            ],
            "type": "histogram2d"
           }
          ],
          "histogram2dcontour": [
           {
            "colorbar": {
             "outlinewidth": 0,
             "ticks": ""
            },
            "colorscale": [
             [
              0,
              "#0d0887"
             ],
             [
              0.1111111111111111,
              "#46039f"
             ],
             [
              0.2222222222222222,
              "#7201a8"
             ],
             [
              0.3333333333333333,
              "#9c179e"
             ],
             [
              0.4444444444444444,
              "#bd3786"
             ],
             [
              0.5555555555555556,
              "#d8576b"
             ],
             [
              0.6666666666666666,
              "#ed7953"
             ],
             [
              0.7777777777777778,
              "#fb9f3a"
             ],
             [
              0.8888888888888888,
              "#fdca26"
             ],
             [
              1,
              "#f0f921"
             ]
            ],
            "type": "histogram2dcontour"
           }
          ],
          "mesh3d": [
           {
            "colorbar": {
             "outlinewidth": 0,
             "ticks": ""
            },
            "type": "mesh3d"
           }
          ],
          "parcoords": [
           {
            "line": {
             "colorbar": {
              "outlinewidth": 0,
              "ticks": ""
             }
            },
            "type": "parcoords"
           }
          ],
          "pie": [
           {
            "automargin": true,
            "type": "pie"
           }
          ],
          "scatter": [
           {
            "fillpattern": {
             "fillmode": "overlay",
             "size": 10,
             "solidity": 0.2
            },
            "type": "scatter"
           }
          ],
          "scatter3d": [
           {
            "line": {
             "colorbar": {
              "outlinewidth": 0,
              "ticks": ""
             }
            },
            "marker": {
             "colorbar": {
              "outlinewidth": 0,
              "ticks": ""
             }
            },
            "type": "scatter3d"
           }
          ],
          "scattercarpet": [
           {
            "marker": {
             "colorbar": {
              "outlinewidth": 0,
              "ticks": ""
             }
            },
            "type": "scattercarpet"
           }
          ],
          "scattergeo": [
           {
            "marker": {
             "colorbar": {
              "outlinewidth": 0,
              "ticks": ""
             }
            },
            "type": "scattergeo"
           }
          ],
          "scattergl": [
           {
            "marker": {
             "colorbar": {
              "outlinewidth": 0,
              "ticks": ""
             }
            },
            "type": "scattergl"
           }
          ],
          "scattermapbox": [
           {
            "marker": {
             "colorbar": {
              "outlinewidth": 0,
              "ticks": ""
             }
            },
            "type": "scattermapbox"
           }
          ],
          "scatterpolar": [
           {
            "marker": {
             "colorbar": {
              "outlinewidth": 0,
              "ticks": ""
             }
            },
            "type": "scatterpolar"
           }
          ],
          "scatterpolargl": [
           {
            "marker": {
             "colorbar": {
              "outlinewidth": 0,
              "ticks": ""
             }
            },
            "type": "scatterpolargl"
           }
          ],
          "scatterternary": [
           {
            "marker": {
             "colorbar": {
              "outlinewidth": 0,
              "ticks": ""
             }
            },
            "type": "scatterternary"
           }
          ],
          "surface": [
           {
            "colorbar": {
             "outlinewidth": 0,
             "ticks": ""
            },
            "colorscale": [
             [
              0,
              "#0d0887"
             ],
             [
              0.1111111111111111,
              "#46039f"
             ],
             [
              0.2222222222222222,
              "#7201a8"
             ],
             [
              0.3333333333333333,
              "#9c179e"
             ],
             [
              0.4444444444444444,
              "#bd3786"
             ],
             [
              0.5555555555555556,
              "#d8576b"
             ],
             [
              0.6666666666666666,
              "#ed7953"
             ],
             [
              0.7777777777777778,
              "#fb9f3a"
             ],
             [
              0.8888888888888888,
              "#fdca26"
             ],
             [
              1,
              "#f0f921"
             ]
            ],
            "type": "surface"
           }
          ],
          "table": [
           {
            "cells": {
             "fill": {
              "color": "#EBF0F8"
             },
             "line": {
              "color": "white"
             }
            },
            "header": {
             "fill": {
              "color": "#C8D4E3"
             },
             "line": {
              "color": "white"
             }
            },
            "type": "table"
           }
          ]
         },
         "layout": {
          "annotationdefaults": {
           "arrowcolor": "#2a3f5f",
           "arrowhead": 0,
           "arrowwidth": 1
          },
          "autotypenumbers": "strict",
          "coloraxis": {
           "colorbar": {
            "outlinewidth": 0,
            "ticks": ""
           }
          },
          "colorscale": {
           "diverging": [
            [
             0,
             "#8e0152"
            ],
            [
             0.1,
             "#c51b7d"
            ],
            [
             0.2,
             "#de77ae"
            ],
            [
             0.3,
             "#f1b6da"
            ],
            [
             0.4,
             "#fde0ef"
            ],
            [
             0.5,
             "#f7f7f7"
            ],
            [
             0.6,
             "#e6f5d0"
            ],
            [
             0.7,
             "#b8e186"
            ],
            [
             0.8,
             "#7fbc41"
            ],
            [
             0.9,
             "#4d9221"
            ],
            [
             1,
             "#276419"
            ]
           ],
           "sequential": [
            [
             0,
             "#0d0887"
            ],
            [
             0.1111111111111111,
             "#46039f"
            ],
            [
             0.2222222222222222,
             "#7201a8"
            ],
            [
             0.3333333333333333,
             "#9c179e"
            ],
            [
             0.4444444444444444,
             "#bd3786"
            ],
            [
             0.5555555555555556,
             "#d8576b"
            ],
            [
             0.6666666666666666,
             "#ed7953"
            ],
            [
             0.7777777777777778,
             "#fb9f3a"
            ],
            [
             0.8888888888888888,
             "#fdca26"
            ],
            [
             1,
             "#f0f921"
            ]
           ],
           "sequentialminus": [
            [
             0,
             "#0d0887"
            ],
            [
             0.1111111111111111,
             "#46039f"
            ],
            [
             0.2222222222222222,
             "#7201a8"
            ],
            [
             0.3333333333333333,
             "#9c179e"
            ],
            [
             0.4444444444444444,
             "#bd3786"
            ],
            [
             0.5555555555555556,
             "#d8576b"
            ],
            [
             0.6666666666666666,
             "#ed7953"
            ],
            [
             0.7777777777777778,
             "#fb9f3a"
            ],
            [
             0.8888888888888888,
             "#fdca26"
            ],
            [
             1,
             "#f0f921"
            ]
           ]
          },
          "colorway": [
           "#636efa",
           "#EF553B",
           "#00cc96",
           "#ab63fa",
           "#FFA15A",
           "#19d3f3",
           "#FF6692",
           "#B6E880",
           "#FF97FF",
           "#FECB52"
          ],
          "font": {
           "color": "#2a3f5f"
          },
          "geo": {
           "bgcolor": "white",
           "lakecolor": "white",
           "landcolor": "#E5ECF6",
           "showlakes": true,
           "showland": true,
           "subunitcolor": "white"
          },
          "hoverlabel": {
           "align": "left"
          },
          "hovermode": "closest",
          "mapbox": {
           "style": "light"
          },
          "paper_bgcolor": "white",
          "plot_bgcolor": "#E5ECF6",
          "polar": {
           "angularaxis": {
            "gridcolor": "white",
            "linecolor": "white",
            "ticks": ""
           },
           "bgcolor": "#E5ECF6",
           "radialaxis": {
            "gridcolor": "white",
            "linecolor": "white",
            "ticks": ""
           }
          },
          "scene": {
           "xaxis": {
            "backgroundcolor": "#E5ECF6",
            "gridcolor": "white",
            "gridwidth": 2,
            "linecolor": "white",
            "showbackground": true,
            "ticks": "",
            "zerolinecolor": "white"
           },
           "yaxis": {
            "backgroundcolor": "#E5ECF6",
            "gridcolor": "white",
            "gridwidth": 2,
            "linecolor": "white",
            "showbackground": true,
            "ticks": "",
            "zerolinecolor": "white"
           },
           "zaxis": {
            "backgroundcolor": "#E5ECF6",
            "gridcolor": "white",
            "gridwidth": 2,
            "linecolor": "white",
            "showbackground": true,
            "ticks": "",
            "zerolinecolor": "white"
           }
          },
          "shapedefaults": {
           "line": {
            "color": "#2a3f5f"
           }
          },
          "ternary": {
           "aaxis": {
            "gridcolor": "white",
            "linecolor": "white",
            "ticks": ""
           },
           "baxis": {
            "gridcolor": "white",
            "linecolor": "white",
            "ticks": ""
           },
           "bgcolor": "#E5ECF6",
           "caxis": {
            "gridcolor": "white",
            "linecolor": "white",
            "ticks": ""
           }
          },
          "title": {
           "x": 0.05
          },
          "xaxis": {
           "automargin": true,
           "gridcolor": "white",
           "linecolor": "white",
           "ticks": "",
           "title": {
            "standoff": 15
           },
           "zerolinecolor": "white",
           "zerolinewidth": 2
          },
          "yaxis": {
           "automargin": true,
           "gridcolor": "white",
           "linecolor": "white",
           "ticks": "",
           "title": {
            "standoff": 15
           },
           "zerolinecolor": "white",
           "zerolinewidth": 2
          }
         }
        },
        "yaxis": {
         "range": [
          0,
          100
         ]
        }
       }
      }
     },
     "metadata": {},
     "output_type": "display_data"
    }
   ],
   "source": [
    "def five_zero_majority(dat):\n",
    "    five_majority = []\n",
    "    zero_majority = []\n",
    "    for index in dat.index:\n",
    "        a = [dat.loc[index, '1AM'],\n",
    "        dat.loc[index, '1PM'],\n",
    "        dat.loc[index, '2AM'],\n",
    "        dat.loc[index, '2PM'],\n",
    "        dat.loc[index, '3AM'],\n",
    "        dat.loc[index, '3PM'],\n",
    "        dat.loc[index, '4AM'],\n",
    "        dat.loc[index, '4PM'],\n",
    "        dat.loc[index, '5AM'],\n",
    "        dat.loc[index, '5PM'],\n",
    "        dat.loc[index, '6AM']]\n",
    "        ln_a_half = (len(a)//2)+1\n",
    "        cnt_a = Counter(a)\n",
    "\n",
    "        if Counter(a)[5.0] >= ln_a_half:\n",
    "            five_majority.append(data.iloc[a])\n",
    "        if Counter(a)[0.0] >= ln_a_half:\n",
    "            zero_majority.append(data.iloc[a])\n",
    "    print((len(five_majority)/len(data.index))*100)\n",
    "    print((len(zero_majority)/len(data.index))*100)\n",
    "    figure = go.Figure(\n",
    "        data = [go.Bar\n",
    "        (y= [(len(five_majority)/len(data.index))*100, ((len(zero_majority)/len(data.index))*100)],        \n",
    "        x= [\"Five Majority\", \"Zero Majority\"]),\n",
    "        ],\n",
    "    )\n",
    "    figure.update_layout(yaxis_range=[0,100])\n",
    "    figure.show()\n",
    "five_zero_majority(data)"
   ]
  },
  {
   "cell_type": "markdown",
   "metadata": {},
   "source": [
    "# Five Zero Majority: Gender Discriminated"
   ]
  },
  {
   "cell_type": "code",
   "execution_count": 79,
   "metadata": {},
   "outputs": [
    {
     "name": "stdout",
     "output_type": "stream",
     "text": [
      "Five Majority on male students: 61.224489795918366\n",
      "Zero Majority on male students: 24.489795918367346\n"
     ]
    },
    {
     "data": {
      "application/vnd.plotly.v1+json": {
       "config": {
        "plotlyServerURL": "https://plot.ly"
       },
       "data": [
        {
         "type": "bar",
         "x": [
          "Five Majority",
          "Zero Majority"
         ],
         "y": [
          61.224489795918366,
          24.489795918367346
         ]
        }
       ],
       "layout": {
        "template": {
         "data": {
          "bar": [
           {
            "error_x": {
             "color": "#2a3f5f"
            },
            "error_y": {
             "color": "#2a3f5f"
            },
            "marker": {
             "line": {
              "color": "#E5ECF6",
              "width": 0.5
             },
             "pattern": {
              "fillmode": "overlay",
              "size": 10,
              "solidity": 0.2
             }
            },
            "type": "bar"
           }
          ],
          "barpolar": [
           {
            "marker": {
             "line": {
              "color": "#E5ECF6",
              "width": 0.5
             },
             "pattern": {
              "fillmode": "overlay",
              "size": 10,
              "solidity": 0.2
             }
            },
            "type": "barpolar"
           }
          ],
          "carpet": [
           {
            "aaxis": {
             "endlinecolor": "#2a3f5f",
             "gridcolor": "white",
             "linecolor": "white",
             "minorgridcolor": "white",
             "startlinecolor": "#2a3f5f"
            },
            "baxis": {
             "endlinecolor": "#2a3f5f",
             "gridcolor": "white",
             "linecolor": "white",
             "minorgridcolor": "white",
             "startlinecolor": "#2a3f5f"
            },
            "type": "carpet"
           }
          ],
          "choropleth": [
           {
            "colorbar": {
             "outlinewidth": 0,
             "ticks": ""
            },
            "type": "choropleth"
           }
          ],
          "contour": [
           {
            "colorbar": {
             "outlinewidth": 0,
             "ticks": ""
            },
            "colorscale": [
             [
              0,
              "#0d0887"
             ],
             [
              0.1111111111111111,
              "#46039f"
             ],
             [
              0.2222222222222222,
              "#7201a8"
             ],
             [
              0.3333333333333333,
              "#9c179e"
             ],
             [
              0.4444444444444444,
              "#bd3786"
             ],
             [
              0.5555555555555556,
              "#d8576b"
             ],
             [
              0.6666666666666666,
              "#ed7953"
             ],
             [
              0.7777777777777778,
              "#fb9f3a"
             ],
             [
              0.8888888888888888,
              "#fdca26"
             ],
             [
              1,
              "#f0f921"
             ]
            ],
            "type": "contour"
           }
          ],
          "contourcarpet": [
           {
            "colorbar": {
             "outlinewidth": 0,
             "ticks": ""
            },
            "type": "contourcarpet"
           }
          ],
          "heatmap": [
           {
            "colorbar": {
             "outlinewidth": 0,
             "ticks": ""
            },
            "colorscale": [
             [
              0,
              "#0d0887"
             ],
             [
              0.1111111111111111,
              "#46039f"
             ],
             [
              0.2222222222222222,
              "#7201a8"
             ],
             [
              0.3333333333333333,
              "#9c179e"
             ],
             [
              0.4444444444444444,
              "#bd3786"
             ],
             [
              0.5555555555555556,
              "#d8576b"
             ],
             [
              0.6666666666666666,
              "#ed7953"
             ],
             [
              0.7777777777777778,
              "#fb9f3a"
             ],
             [
              0.8888888888888888,
              "#fdca26"
             ],
             [
              1,
              "#f0f921"
             ]
            ],
            "type": "heatmap"
           }
          ],
          "heatmapgl": [
           {
            "colorbar": {
             "outlinewidth": 0,
             "ticks": ""
            },
            "colorscale": [
             [
              0,
              "#0d0887"
             ],
             [
              0.1111111111111111,
              "#46039f"
             ],
             [
              0.2222222222222222,
              "#7201a8"
             ],
             [
              0.3333333333333333,
              "#9c179e"
             ],
             [
              0.4444444444444444,
              "#bd3786"
             ],
             [
              0.5555555555555556,
              "#d8576b"
             ],
             [
              0.6666666666666666,
              "#ed7953"
             ],
             [
              0.7777777777777778,
              "#fb9f3a"
             ],
             [
              0.8888888888888888,
              "#fdca26"
             ],
             [
              1,
              "#f0f921"
             ]
            ],
            "type": "heatmapgl"
           }
          ],
          "histogram": [
           {
            "marker": {
             "pattern": {
              "fillmode": "overlay",
              "size": 10,
              "solidity": 0.2
             }
            },
            "type": "histogram"
           }
          ],
          "histogram2d": [
           {
            "colorbar": {
             "outlinewidth": 0,
             "ticks": ""
            },
            "colorscale": [
             [
              0,
              "#0d0887"
             ],
             [
              0.1111111111111111,
              "#46039f"
             ],
             [
              0.2222222222222222,
              "#7201a8"
             ],
             [
              0.3333333333333333,
              "#9c179e"
             ],
             [
              0.4444444444444444,
              "#bd3786"
             ],
             [
              0.5555555555555556,
              "#d8576b"
             ],
             [
              0.6666666666666666,
              "#ed7953"
             ],
             [
              0.7777777777777778,
              "#fb9f3a"
             ],
             [
              0.8888888888888888,
              "#fdca26"
             ],
             [
              1,
              "#f0f921"
             ]
            ],
            "type": "histogram2d"
           }
          ],
          "histogram2dcontour": [
           {
            "colorbar": {
             "outlinewidth": 0,
             "ticks": ""
            },
            "colorscale": [
             [
              0,
              "#0d0887"
             ],
             [
              0.1111111111111111,
              "#46039f"
             ],
             [
              0.2222222222222222,
              "#7201a8"
             ],
             [
              0.3333333333333333,
              "#9c179e"
             ],
             [
              0.4444444444444444,
              "#bd3786"
             ],
             [
              0.5555555555555556,
              "#d8576b"
             ],
             [
              0.6666666666666666,
              "#ed7953"
             ],
             [
              0.7777777777777778,
              "#fb9f3a"
             ],
             [
              0.8888888888888888,
              "#fdca26"
             ],
             [
              1,
              "#f0f921"
             ]
            ],
            "type": "histogram2dcontour"
           }
          ],
          "mesh3d": [
           {
            "colorbar": {
             "outlinewidth": 0,
             "ticks": ""
            },
            "type": "mesh3d"
           }
          ],
          "parcoords": [
           {
            "line": {
             "colorbar": {
              "outlinewidth": 0,
              "ticks": ""
             }
            },
            "type": "parcoords"
           }
          ],
          "pie": [
           {
            "automargin": true,
            "type": "pie"
           }
          ],
          "scatter": [
           {
            "fillpattern": {
             "fillmode": "overlay",
             "size": 10,
             "solidity": 0.2
            },
            "type": "scatter"
           }
          ],
          "scatter3d": [
           {
            "line": {
             "colorbar": {
              "outlinewidth": 0,
              "ticks": ""
             }
            },
            "marker": {
             "colorbar": {
              "outlinewidth": 0,
              "ticks": ""
             }
            },
            "type": "scatter3d"
           }
          ],
          "scattercarpet": [
           {
            "marker": {
             "colorbar": {
              "outlinewidth": 0,
              "ticks": ""
             }
            },
            "type": "scattercarpet"
           }
          ],
          "scattergeo": [
           {
            "marker": {
             "colorbar": {
              "outlinewidth": 0,
              "ticks": ""
             }
            },
            "type": "scattergeo"
           }
          ],
          "scattergl": [
           {
            "marker": {
             "colorbar": {
              "outlinewidth": 0,
              "ticks": ""
             }
            },
            "type": "scattergl"
           }
          ],
          "scattermapbox": [
           {
            "marker": {
             "colorbar": {
              "outlinewidth": 0,
              "ticks": ""
             }
            },
            "type": "scattermapbox"
           }
          ],
          "scatterpolar": [
           {
            "marker": {
             "colorbar": {
              "outlinewidth": 0,
              "ticks": ""
             }
            },
            "type": "scatterpolar"
           }
          ],
          "scatterpolargl": [
           {
            "marker": {
             "colorbar": {
              "outlinewidth": 0,
              "ticks": ""
             }
            },
            "type": "scatterpolargl"
           }
          ],
          "scatterternary": [
           {
            "marker": {
             "colorbar": {
              "outlinewidth": 0,
              "ticks": ""
             }
            },
            "type": "scatterternary"
           }
          ],
          "surface": [
           {
            "colorbar": {
             "outlinewidth": 0,
             "ticks": ""
            },
            "colorscale": [
             [
              0,
              "#0d0887"
             ],
             [
              0.1111111111111111,
              "#46039f"
             ],
             [
              0.2222222222222222,
              "#7201a8"
             ],
             [
              0.3333333333333333,
              "#9c179e"
             ],
             [
              0.4444444444444444,
              "#bd3786"
             ],
             [
              0.5555555555555556,
              "#d8576b"
             ],
             [
              0.6666666666666666,
              "#ed7953"
             ],
             [
              0.7777777777777778,
              "#fb9f3a"
             ],
             [
              0.8888888888888888,
              "#fdca26"
             ],
             [
              1,
              "#f0f921"
             ]
            ],
            "type": "surface"
           }
          ],
          "table": [
           {
            "cells": {
             "fill": {
              "color": "#EBF0F8"
             },
             "line": {
              "color": "white"
             }
            },
            "header": {
             "fill": {
              "color": "#C8D4E3"
             },
             "line": {
              "color": "white"
             }
            },
            "type": "table"
           }
          ]
         },
         "layout": {
          "annotationdefaults": {
           "arrowcolor": "#2a3f5f",
           "arrowhead": 0,
           "arrowwidth": 1
          },
          "autotypenumbers": "strict",
          "coloraxis": {
           "colorbar": {
            "outlinewidth": 0,
            "ticks": ""
           }
          },
          "colorscale": {
           "diverging": [
            [
             0,
             "#8e0152"
            ],
            [
             0.1,
             "#c51b7d"
            ],
            [
             0.2,
             "#de77ae"
            ],
            [
             0.3,
             "#f1b6da"
            ],
            [
             0.4,
             "#fde0ef"
            ],
            [
             0.5,
             "#f7f7f7"
            ],
            [
             0.6,
             "#e6f5d0"
            ],
            [
             0.7,
             "#b8e186"
            ],
            [
             0.8,
             "#7fbc41"
            ],
            [
             0.9,
             "#4d9221"
            ],
            [
             1,
             "#276419"
            ]
           ],
           "sequential": [
            [
             0,
             "#0d0887"
            ],
            [
             0.1111111111111111,
             "#46039f"
            ],
            [
             0.2222222222222222,
             "#7201a8"
            ],
            [
             0.3333333333333333,
             "#9c179e"
            ],
            [
             0.4444444444444444,
             "#bd3786"
            ],
            [
             0.5555555555555556,
             "#d8576b"
            ],
            [
             0.6666666666666666,
             "#ed7953"
            ],
            [
             0.7777777777777778,
             "#fb9f3a"
            ],
            [
             0.8888888888888888,
             "#fdca26"
            ],
            [
             1,
             "#f0f921"
            ]
           ],
           "sequentialminus": [
            [
             0,
             "#0d0887"
            ],
            [
             0.1111111111111111,
             "#46039f"
            ],
            [
             0.2222222222222222,
             "#7201a8"
            ],
            [
             0.3333333333333333,
             "#9c179e"
            ],
            [
             0.4444444444444444,
             "#bd3786"
            ],
            [
             0.5555555555555556,
             "#d8576b"
            ],
            [
             0.6666666666666666,
             "#ed7953"
            ],
            [
             0.7777777777777778,
             "#fb9f3a"
            ],
            [
             0.8888888888888888,
             "#fdca26"
            ],
            [
             1,
             "#f0f921"
            ]
           ]
          },
          "colorway": [
           "#636efa",
           "#EF553B",
           "#00cc96",
           "#ab63fa",
           "#FFA15A",
           "#19d3f3",
           "#FF6692",
           "#B6E880",
           "#FF97FF",
           "#FECB52"
          ],
          "font": {
           "color": "#2a3f5f"
          },
          "geo": {
           "bgcolor": "white",
           "lakecolor": "white",
           "landcolor": "#E5ECF6",
           "showlakes": true,
           "showland": true,
           "subunitcolor": "white"
          },
          "hoverlabel": {
           "align": "left"
          },
          "hovermode": "closest",
          "mapbox": {
           "style": "light"
          },
          "paper_bgcolor": "white",
          "plot_bgcolor": "#E5ECF6",
          "polar": {
           "angularaxis": {
            "gridcolor": "white",
            "linecolor": "white",
            "ticks": ""
           },
           "bgcolor": "#E5ECF6",
           "radialaxis": {
            "gridcolor": "white",
            "linecolor": "white",
            "ticks": ""
           }
          },
          "scene": {
           "xaxis": {
            "backgroundcolor": "#E5ECF6",
            "gridcolor": "white",
            "gridwidth": 2,
            "linecolor": "white",
            "showbackground": true,
            "ticks": "",
            "zerolinecolor": "white"
           },
           "yaxis": {
            "backgroundcolor": "#E5ECF6",
            "gridcolor": "white",
            "gridwidth": 2,
            "linecolor": "white",
            "showbackground": true,
            "ticks": "",
            "zerolinecolor": "white"
           },
           "zaxis": {
            "backgroundcolor": "#E5ECF6",
            "gridcolor": "white",
            "gridwidth": 2,
            "linecolor": "white",
            "showbackground": true,
            "ticks": "",
            "zerolinecolor": "white"
           }
          },
          "shapedefaults": {
           "line": {
            "color": "#2a3f5f"
           }
          },
          "ternary": {
           "aaxis": {
            "gridcolor": "white",
            "linecolor": "white",
            "ticks": ""
           },
           "baxis": {
            "gridcolor": "white",
            "linecolor": "white",
            "ticks": ""
           },
           "bgcolor": "#E5ECF6",
           "caxis": {
            "gridcolor": "white",
            "linecolor": "white",
            "ticks": ""
           }
          },
          "title": {
           "x": 0.05
          },
          "xaxis": {
           "automargin": true,
           "gridcolor": "white",
           "linecolor": "white",
           "ticks": "",
           "title": {
            "standoff": 15
           },
           "zerolinecolor": "white",
           "zerolinewidth": 2
          },
          "yaxis": {
           "automargin": true,
           "gridcolor": "white",
           "linecolor": "white",
           "ticks": "",
           "title": {
            "standoff": 15
           },
           "zerolinecolor": "white",
           "zerolinewidth": 2
          }
         }
        },
        "yaxis": {
         "range": [
          0,
          100
         ]
        }
       }
      }
     },
     "metadata": {},
     "output_type": "display_data"
    },
    {
     "name": "stdout",
     "output_type": "stream",
     "text": [
      "Five Majority on female students: 70.0\n",
      "Zero Majority on female students: 12.0\n"
     ]
    },
    {
     "data": {
      "application/vnd.plotly.v1+json": {
       "config": {
        "plotlyServerURL": "https://plot.ly"
       },
       "data": [
        {
         "type": "bar",
         "x": [
          "Five Majority",
          "Zero Majority"
         ],
         "y": [
          70,
          12
         ]
        }
       ],
       "layout": {
        "template": {
         "data": {
          "bar": [
           {
            "error_x": {
             "color": "#2a3f5f"
            },
            "error_y": {
             "color": "#2a3f5f"
            },
            "marker": {
             "line": {
              "color": "#E5ECF6",
              "width": 0.5
             },
             "pattern": {
              "fillmode": "overlay",
              "size": 10,
              "solidity": 0.2
             }
            },
            "type": "bar"
           }
          ],
          "barpolar": [
           {
            "marker": {
             "line": {
              "color": "#E5ECF6",
              "width": 0.5
             },
             "pattern": {
              "fillmode": "overlay",
              "size": 10,
              "solidity": 0.2
             }
            },
            "type": "barpolar"
           }
          ],
          "carpet": [
           {
            "aaxis": {
             "endlinecolor": "#2a3f5f",
             "gridcolor": "white",
             "linecolor": "white",
             "minorgridcolor": "white",
             "startlinecolor": "#2a3f5f"
            },
            "baxis": {
             "endlinecolor": "#2a3f5f",
             "gridcolor": "white",
             "linecolor": "white",
             "minorgridcolor": "white",
             "startlinecolor": "#2a3f5f"
            },
            "type": "carpet"
           }
          ],
          "choropleth": [
           {
            "colorbar": {
             "outlinewidth": 0,
             "ticks": ""
            },
            "type": "choropleth"
           }
          ],
          "contour": [
           {
            "colorbar": {
             "outlinewidth": 0,
             "ticks": ""
            },
            "colorscale": [
             [
              0,
              "#0d0887"
             ],
             [
              0.1111111111111111,
              "#46039f"
             ],
             [
              0.2222222222222222,
              "#7201a8"
             ],
             [
              0.3333333333333333,
              "#9c179e"
             ],
             [
              0.4444444444444444,
              "#bd3786"
             ],
             [
              0.5555555555555556,
              "#d8576b"
             ],
             [
              0.6666666666666666,
              "#ed7953"
             ],
             [
              0.7777777777777778,
              "#fb9f3a"
             ],
             [
              0.8888888888888888,
              "#fdca26"
             ],
             [
              1,
              "#f0f921"
             ]
            ],
            "type": "contour"
           }
          ],
          "contourcarpet": [
           {
            "colorbar": {
             "outlinewidth": 0,
             "ticks": ""
            },
            "type": "contourcarpet"
           }
          ],
          "heatmap": [
           {
            "colorbar": {
             "outlinewidth": 0,
             "ticks": ""
            },
            "colorscale": [
             [
              0,
              "#0d0887"
             ],
             [
              0.1111111111111111,
              "#46039f"
             ],
             [
              0.2222222222222222,
              "#7201a8"
             ],
             [
              0.3333333333333333,
              "#9c179e"
             ],
             [
              0.4444444444444444,
              "#bd3786"
             ],
             [
              0.5555555555555556,
              "#d8576b"
             ],
             [
              0.6666666666666666,
              "#ed7953"
             ],
             [
              0.7777777777777778,
              "#fb9f3a"
             ],
             [
              0.8888888888888888,
              "#fdca26"
             ],
             [
              1,
              "#f0f921"
             ]
            ],
            "type": "heatmap"
           }
          ],
          "heatmapgl": [
           {
            "colorbar": {
             "outlinewidth": 0,
             "ticks": ""
            },
            "colorscale": [
             [
              0,
              "#0d0887"
             ],
             [
              0.1111111111111111,
              "#46039f"
             ],
             [
              0.2222222222222222,
              "#7201a8"
             ],
             [
              0.3333333333333333,
              "#9c179e"
             ],
             [
              0.4444444444444444,
              "#bd3786"
             ],
             [
              0.5555555555555556,
              "#d8576b"
             ],
             [
              0.6666666666666666,
              "#ed7953"
             ],
             [
              0.7777777777777778,
              "#fb9f3a"
             ],
             [
              0.8888888888888888,
              "#fdca26"
             ],
             [
              1,
              "#f0f921"
             ]
            ],
            "type": "heatmapgl"
           }
          ],
          "histogram": [
           {
            "marker": {
             "pattern": {
              "fillmode": "overlay",
              "size": 10,
              "solidity": 0.2
             }
            },
            "type": "histogram"
           }
          ],
          "histogram2d": [
           {
            "colorbar": {
             "outlinewidth": 0,
             "ticks": ""
            },
            "colorscale": [
             [
              0,
              "#0d0887"
             ],
             [
              0.1111111111111111,
              "#46039f"
             ],
             [
              0.2222222222222222,
              "#7201a8"
             ],
             [
              0.3333333333333333,
              "#9c179e"
             ],
             [
              0.4444444444444444,
              "#bd3786"
             ],
             [
              0.5555555555555556,
              "#d8576b"
             ],
             [
              0.6666666666666666,
              "#ed7953"
             ],
             [
              0.7777777777777778,
              "#fb9f3a"
             ],
             [
              0.8888888888888888,
              "#fdca26"
             ],
             [
              1,
              "#f0f921"
             ]
            ],
            "type": "histogram2d"
           }
          ],
          "histogram2dcontour": [
           {
            "colorbar": {
             "outlinewidth": 0,
             "ticks": ""
            },
            "colorscale": [
             [
              0,
              "#0d0887"
             ],
             [
              0.1111111111111111,
              "#46039f"
             ],
             [
              0.2222222222222222,
              "#7201a8"
             ],
             [
              0.3333333333333333,
              "#9c179e"
             ],
             [
              0.4444444444444444,
              "#bd3786"
             ],
             [
              0.5555555555555556,
              "#d8576b"
             ],
             [
              0.6666666666666666,
              "#ed7953"
             ],
             [
              0.7777777777777778,
              "#fb9f3a"
             ],
             [
              0.8888888888888888,
              "#fdca26"
             ],
             [
              1,
              "#f0f921"
             ]
            ],
            "type": "histogram2dcontour"
           }
          ],
          "mesh3d": [
           {
            "colorbar": {
             "outlinewidth": 0,
             "ticks": ""
            },
            "type": "mesh3d"
           }
          ],
          "parcoords": [
           {
            "line": {
             "colorbar": {
              "outlinewidth": 0,
              "ticks": ""
             }
            },
            "type": "parcoords"
           }
          ],
          "pie": [
           {
            "automargin": true,
            "type": "pie"
           }
          ],
          "scatter": [
           {
            "fillpattern": {
             "fillmode": "overlay",
             "size": 10,
             "solidity": 0.2
            },
            "type": "scatter"
           }
          ],
          "scatter3d": [
           {
            "line": {
             "colorbar": {
              "outlinewidth": 0,
              "ticks": ""
             }
            },
            "marker": {
             "colorbar": {
              "outlinewidth": 0,
              "ticks": ""
             }
            },
            "type": "scatter3d"
           }
          ],
          "scattercarpet": [
           {
            "marker": {
             "colorbar": {
              "outlinewidth": 0,
              "ticks": ""
             }
            },
            "type": "scattercarpet"
           }
          ],
          "scattergeo": [
           {
            "marker": {
             "colorbar": {
              "outlinewidth": 0,
              "ticks": ""
             }
            },
            "type": "scattergeo"
           }
          ],
          "scattergl": [
           {
            "marker": {
             "colorbar": {
              "outlinewidth": 0,
              "ticks": ""
             }
            },
            "type": "scattergl"
           }
          ],
          "scattermapbox": [
           {
            "marker": {
             "colorbar": {
              "outlinewidth": 0,
              "ticks": ""
             }
            },
            "type": "scattermapbox"
           }
          ],
          "scatterpolar": [
           {
            "marker": {
             "colorbar": {
              "outlinewidth": 0,
              "ticks": ""
             }
            },
            "type": "scatterpolar"
           }
          ],
          "scatterpolargl": [
           {
            "marker": {
             "colorbar": {
              "outlinewidth": 0,
              "ticks": ""
             }
            },
            "type": "scatterpolargl"
           }
          ],
          "scatterternary": [
           {
            "marker": {
             "colorbar": {
              "outlinewidth": 0,
              "ticks": ""
             }
            },
            "type": "scatterternary"
           }
          ],
          "surface": [
           {
            "colorbar": {
             "outlinewidth": 0,
             "ticks": ""
            },
            "colorscale": [
             [
              0,
              "#0d0887"
             ],
             [
              0.1111111111111111,
              "#46039f"
             ],
             [
              0.2222222222222222,
              "#7201a8"
             ],
             [
              0.3333333333333333,
              "#9c179e"
             ],
             [
              0.4444444444444444,
              "#bd3786"
             ],
             [
              0.5555555555555556,
              "#d8576b"
             ],
             [
              0.6666666666666666,
              "#ed7953"
             ],
             [
              0.7777777777777778,
              "#fb9f3a"
             ],
             [
              0.8888888888888888,
              "#fdca26"
             ],
             [
              1,
              "#f0f921"
             ]
            ],
            "type": "surface"
           }
          ],
          "table": [
           {
            "cells": {
             "fill": {
              "color": "#EBF0F8"
             },
             "line": {
              "color": "white"
             }
            },
            "header": {
             "fill": {
              "color": "#C8D4E3"
             },
             "line": {
              "color": "white"
             }
            },
            "type": "table"
           }
          ]
         },
         "layout": {
          "annotationdefaults": {
           "arrowcolor": "#2a3f5f",
           "arrowhead": 0,
           "arrowwidth": 1
          },
          "autotypenumbers": "strict",
          "coloraxis": {
           "colorbar": {
            "outlinewidth": 0,
            "ticks": ""
           }
          },
          "colorscale": {
           "diverging": [
            [
             0,
             "#8e0152"
            ],
            [
             0.1,
             "#c51b7d"
            ],
            [
             0.2,
             "#de77ae"
            ],
            [
             0.3,
             "#f1b6da"
            ],
            [
             0.4,
             "#fde0ef"
            ],
            [
             0.5,
             "#f7f7f7"
            ],
            [
             0.6,
             "#e6f5d0"
            ],
            [
             0.7,
             "#b8e186"
            ],
            [
             0.8,
             "#7fbc41"
            ],
            [
             0.9,
             "#4d9221"
            ],
            [
             1,
             "#276419"
            ]
           ],
           "sequential": [
            [
             0,
             "#0d0887"
            ],
            [
             0.1111111111111111,
             "#46039f"
            ],
            [
             0.2222222222222222,
             "#7201a8"
            ],
            [
             0.3333333333333333,
             "#9c179e"
            ],
            [
             0.4444444444444444,
             "#bd3786"
            ],
            [
             0.5555555555555556,
             "#d8576b"
            ],
            [
             0.6666666666666666,
             "#ed7953"
            ],
            [
             0.7777777777777778,
             "#fb9f3a"
            ],
            [
             0.8888888888888888,
             "#fdca26"
            ],
            [
             1,
             "#f0f921"
            ]
           ],
           "sequentialminus": [
            [
             0,
             "#0d0887"
            ],
            [
             0.1111111111111111,
             "#46039f"
            ],
            [
             0.2222222222222222,
             "#7201a8"
            ],
            [
             0.3333333333333333,
             "#9c179e"
            ],
            [
             0.4444444444444444,
             "#bd3786"
            ],
            [
             0.5555555555555556,
             "#d8576b"
            ],
            [
             0.6666666666666666,
             "#ed7953"
            ],
            [
             0.7777777777777778,
             "#fb9f3a"
            ],
            [
             0.8888888888888888,
             "#fdca26"
            ],
            [
             1,
             "#f0f921"
            ]
           ]
          },
          "colorway": [
           "#636efa",
           "#EF553B",
           "#00cc96",
           "#ab63fa",
           "#FFA15A",
           "#19d3f3",
           "#FF6692",
           "#B6E880",
           "#FF97FF",
           "#FECB52"
          ],
          "font": {
           "color": "#2a3f5f"
          },
          "geo": {
           "bgcolor": "white",
           "lakecolor": "white",
           "landcolor": "#E5ECF6",
           "showlakes": true,
           "showland": true,
           "subunitcolor": "white"
          },
          "hoverlabel": {
           "align": "left"
          },
          "hovermode": "closest",
          "mapbox": {
           "style": "light"
          },
          "paper_bgcolor": "white",
          "plot_bgcolor": "#E5ECF6",
          "polar": {
           "angularaxis": {
            "gridcolor": "white",
            "linecolor": "white",
            "ticks": ""
           },
           "bgcolor": "#E5ECF6",
           "radialaxis": {
            "gridcolor": "white",
            "linecolor": "white",
            "ticks": ""
           }
          },
          "scene": {
           "xaxis": {
            "backgroundcolor": "#E5ECF6",
            "gridcolor": "white",
            "gridwidth": 2,
            "linecolor": "white",
            "showbackground": true,
            "ticks": "",
            "zerolinecolor": "white"
           },
           "yaxis": {
            "backgroundcolor": "#E5ECF6",
            "gridcolor": "white",
            "gridwidth": 2,
            "linecolor": "white",
            "showbackground": true,
            "ticks": "",
            "zerolinecolor": "white"
           },
           "zaxis": {
            "backgroundcolor": "#E5ECF6",
            "gridcolor": "white",
            "gridwidth": 2,
            "linecolor": "white",
            "showbackground": true,
            "ticks": "",
            "zerolinecolor": "white"
           }
          },
          "shapedefaults": {
           "line": {
            "color": "#2a3f5f"
           }
          },
          "ternary": {
           "aaxis": {
            "gridcolor": "white",
            "linecolor": "white",
            "ticks": ""
           },
           "baxis": {
            "gridcolor": "white",
            "linecolor": "white",
            "ticks": ""
           },
           "bgcolor": "#E5ECF6",
           "caxis": {
            "gridcolor": "white",
            "linecolor": "white",
            "ticks": ""
           }
          },
          "title": {
           "x": 0.05
          },
          "xaxis": {
           "automargin": true,
           "gridcolor": "white",
           "linecolor": "white",
           "ticks": "",
           "title": {
            "standoff": 15
           },
           "zerolinecolor": "white",
           "zerolinewidth": 2
          },
          "yaxis": {
           "automargin": true,
           "gridcolor": "white",
           "linecolor": "white",
           "ticks": "",
           "title": {
            "standoff": 15
           },
           "zerolinecolor": "white",
           "zerolinewidth": 2
          }
         }
        },
        "yaxis": {
         "range": [
          0,
          100
         ]
        }
       }
      }
     },
     "metadata": {},
     "output_type": "display_data"
    }
   ],
   "source": [
    "def five_zero_majority_male(dat):\n",
    "    dat = dat.query(\"GENERO == 'H'\")\n",
    "    five_majority = []\n",
    "    zero_majority = []\n",
    "    for index in dat.index:\n",
    "        a = [dat.loc[index, '1AM'],\n",
    "        dat.loc[index, '1PM'],\n",
    "        dat.loc[index, '2AM'],\n",
    "        dat.loc[index, '2PM'],\n",
    "        dat.loc[index, '3AM'],\n",
    "        dat.loc[index, '3PM'],\n",
    "        dat.loc[index, '4AM'],\n",
    "        dat.loc[index, '4PM'],\n",
    "        dat.loc[index, '5AM'],\n",
    "        dat.loc[index, '5PM'],\n",
    "        dat.loc[index, '6AM']]\n",
    "        ln_a_half = (len(a)//2)+1\n",
    "        cnt_a = Counter(a)\n",
    "\n",
    "        if Counter(a)[5.0] >= ln_a_half:\n",
    "            five_majority.append(data.iloc[a])\n",
    "        if Counter(a)[0.0] >= ln_a_half:\n",
    "            zero_majority.append(data.iloc[a])\n",
    "    \n",
    "    print(\"Five Majority on male students: \" + str((len(five_majority)/len(dat.index))*100))\n",
    "    print(\"Zero Majority on male students: \" + str((len(zero_majority)/len(dat.index))*100))\n",
    "    figure = go.Figure(\n",
    "        data = [go.Bar\n",
    "        (y= [(len(five_majority)/len(dat.index))*100, ((len(zero_majority)/len(dat.index))*100)],        \n",
    "        x= [\"Five Majority\", \"Zero Majority\"]),\n",
    "        ],\n",
    "    )\n",
    "    figure.update_layout(yaxis_range=[0,100])\n",
    "    figure.show()\n",
    "\n",
    "five_zero_majority_male(data)\n",
    "\n",
    "def five_zero_majority_female(dat):\n",
    "    dat = dat.query(\"GENERO == 'M'\")\n",
    "    five_majority = []\n",
    "    zero_majority = []\n",
    "    for index in dat.index:\n",
    "        a = [dat.loc[index, '1AM'],\n",
    "        dat.loc[index, '1PM'],\n",
    "        dat.loc[index, '2AM'],\n",
    "        dat.loc[index, '2PM'],\n",
    "        dat.loc[index, '3AM'],\n",
    "        dat.loc[index, '3PM'],\n",
    "        dat.loc[index, '4AM'],\n",
    "        dat.loc[index, '4PM'],\n",
    "        dat.loc[index, '5AM'],\n",
    "        dat.loc[index, '5PM'],\n",
    "        dat.loc[index, '6AM']]\n",
    "        ln_a_half = (len(a)//2)+1\n",
    "        cnt_a = Counter(a)\n",
    "\n",
    "        if Counter(a)[5.0] >= ln_a_half:\n",
    "            five_majority.append(data.iloc[a])\n",
    "        if Counter(a)[0.0] >= ln_a_half:\n",
    "            zero_majority.append(data.iloc[a])\n",
    "    print(\"Five Majority on female students: \" + str((len(five_majority)/len(dat.index))*100))\n",
    "    print(\"Zero Majority on female students: \" + str((len(zero_majority)/len(dat.index))*100))\n",
    "    figure = go.Figure(\n",
    "        data = [go.Bar\n",
    "        (y= [(len(five_majority)/len(dat.index))*100, ((len(zero_majority)/len(dat.index))*100)],        \n",
    "        x= [\"Five Majority\", \"Zero Majority\"]),\n",
    "        ],\n",
    "    )\n",
    "    figure.update_layout(yaxis_range=[0,100])\n",
    "    figure.show()\n",
    "\n",
    "five_zero_majority_female(data)"
   ]
  },
  {
   "cell_type": "markdown",
   "metadata": {},
   "source": [
    "# Pie graph: Gender Discriminated."
   ]
  },
  {
   "cell_type": "code",
   "execution_count": 80,
   "metadata": {},
   "outputs": [
    {
     "name": "stdout",
     "output_type": "stream",
     "text": [
      "--RANGES FOR MALE STUDENTS--\n",
      "5: Perfect implementation.- 54.73098330241187%\n",
      "3.5 - 4.9: Functional implementation with small problems.- 8.905380333951761%\n",
      "0.1 - 3.4: Implementation with serious problems (not working).- 3.153988868274583%\n",
      "0: Did not submit the work.33.209647495361786%\n",
      "--RANGES FOR FEMALE STUDENTS--\n",
      "5: Perfect implementation.- 61.63636363636363%\n",
      "3.5 - 4.9: Functional implementation with small problems.- 7.818181818181818%\n",
      "0.1 - 3.4: Implementation with serious problems (not working).- 3.8181818181818183%\n",
      "0: Did not submit the work.26.727272727272727%\n"
     ]
    }
   ],
   "source": [
    "\n",
    "concept_checks = ['1AM','1PM','2AM','2PM','3AM','3PM','4AM','4PM','5AM','5PM','6AM'] \n",
    "\n",
    "def note_dist_male(dat):\n",
    "    note_ranges = {\n",
    "    '5: Perfect implementation.':0,\n",
    "    '3.5 - 4.9: Functional implementation with small problems.':0,\n",
    "    '0.1 - 3.4: Implementation with serious problems (not working)':0,\n",
    "    \"0: Did not submit the work.\": 0\n",
    "    }\n",
    "\n",
    "    for index in dat.index:\n",
    "        for concept in concept_checks:\n",
    "            grade = data.loc[index, concept]\n",
    "            if grade == 0:\n",
    "                note_ranges[\"0: Did not submit the work.\"] += 1\n",
    "            elif grade == 5:\n",
    "                note_ranges['5: Perfect implementation.'] += 1\n",
    "            elif grade in np.arange(3.5, 5):\n",
    "                note_ranges['3.5 - 4.9: Functional implementation with small problems.'] += 1\n",
    "            else:\n",
    "                note_ranges['0.1 - 3.4: Implementation with serious problems (not working)'] += 1\n",
    "    print(\"--RANGES FOR MALE STUDENTS--\")\n",
    "    print('5: Perfect implementation.- '+\n",
    "        str((note_ranges['5: Perfect implementation.']/ sum(note_ranges.values()))*100)\n",
    "        +\"%\")\n",
    "    print('3.5 - 4.9: Functional implementation with small problems.- '+\n",
    "        str((note_ranges['3.5 - 4.9: Functional implementation with small problems.']/ sum(note_ranges.values()))*100)\n",
    "        +\"%\")\n",
    "    print('0.1 - 3.4: Implementation with serious problems (not working).- '+\n",
    "        str((note_ranges['0.1 - 3.4: Implementation with serious problems (not working)']/ sum(note_ranges.values()))*100)\n",
    "        +\"%\")\n",
    "    print('0: Did not submit the work.'+\n",
    "        str((note_ranges['0: Did not submit the work.']/ sum(note_ranges.values()))*100)\n",
    "        +\"%\")\n",
    "    \n",
    "note_dist_male(data.query(\"GENERO == 'H'\"))\n",
    "\n",
    "def note_dist_female(dat):\n",
    "    note_ranges = {\n",
    "    '5: Perfect implementation.':0,\n",
    "    '3.5 - 4.9: Functional implementation with small problems.':0,\n",
    "    '0.1 - 3.4: Implementation with serious problems (not working)':0,\n",
    "    \"0: Did not submit the work.\": 0\n",
    "    }\n",
    "\n",
    "    for index in dat.index:\n",
    "        for concept in concept_checks:\n",
    "            grade = data.loc[index, concept]\n",
    "            if grade == 0:\n",
    "                note_ranges[\"0: Did not submit the work.\"] += 1\n",
    "            elif grade == 5:\n",
    "                note_ranges['5: Perfect implementation.'] += 1\n",
    "            elif grade in np.arange(3.5, 5):\n",
    "                note_ranges['3.5 - 4.9: Functional implementation with small problems.'] += 1\n",
    "            else:\n",
    "                note_ranges['0.1 - 3.4: Implementation with serious problems (not working)'] += 1\n",
    "    print(\"--RANGES FOR FEMALE STUDENTS--\")\n",
    "    print('5: Perfect implementation.- '+\n",
    "        str((note_ranges['5: Perfect implementation.']/ sum(note_ranges.values()))*100)\n",
    "        +\"%\")\n",
    "    print('3.5 - 4.9: Functional implementation with small problems.- '+\n",
    "        str((note_ranges['3.5 - 4.9: Functional implementation with small problems.']/ sum(note_ranges.values()))*100)\n",
    "        +\"%\")\n",
    "    print('0.1 - 3.4: Implementation with serious problems (not working).- '+\n",
    "        str((note_ranges['0.1 - 3.4: Implementation with serious problems (not working)']/ sum(note_ranges.values()))*100)\n",
    "        +\"%\")\n",
    "    print('0: Did not submit the work.'+\n",
    "        str((note_ranges['0: Did not submit the work.']/ sum(note_ranges.values()))*100)\n",
    "        +\"%\")\n",
    "\n",
    "\n",
    "note_dist_female(data.query(\"GENERO == 'M'\"))"
   ]
  },
  {
   "cell_type": "markdown",
   "metadata": {},
   "source": [
    "# Ranges per School"
   ]
  },
  {
   "cell_type": "code",
   "execution_count": 81,
   "metadata": {},
   "outputs": [
    {
     "name": "stdout",
     "output_type": "stream",
     "text": [
      "COLEGIO ANGLO COLOMBIANO\n",
      "No. Estudiantes: 10\n",
      "promedio: 3.2909090909090906\n",
      "\n",
      "COLEGIO NAVAL SANTAFÉ DE BOGOTÁ\n",
      "No. Estudiantes: 8\n",
      "promedio: 2.5238636363636364\n",
      "\n",
      "COLEGIO CRISTIANO GRACIA Y AMOR\n",
      "No. Estudiantes: 5\n",
      "promedio: 4.054545454545455\n",
      "\n",
      "COLEGIO CRISTIANO SEMILLA DE VIDA \n",
      "No. Estudiantes: 10\n",
      "promedio: 3.831818181818181\n",
      "\n",
      "COLEGIO SANTA FRANCISCA ROMANA\n",
      "No. Estudiantes: 5\n",
      "promedio: 3.163636363636363\n",
      "\n",
      "GIMNASIO CAMPESTRE BETH SHALOM \n",
      "No. Estudiantes: 4\n",
      "promedio: 2.9318181818181817\n",
      "\n",
      "SAN JOSE I E D \n",
      "No. Estudiantes: 4\n",
      "promedio: 3.3181818181818183\n",
      "\n",
      "GIMNASIO MODERNO\n",
      "No. Estudiantes: 3\n",
      "promedio: 4.363636363636363\n",
      "\n",
      "GIMNASIO CAMPESTRE LOS SAUCES\n",
      "No. Estudiantes: 5\n",
      "promedio: 3.447272727272727\n",
      "\n",
      "PATRIA\n",
      "No. Estudiantes: 1\n",
      "promedio: 0.0\n",
      "\n",
      "COLEGIO HELADIA MEJIA I.E.D.\n",
      "No. Estudiantes: 14\n",
      "promedio: 3.3720779220779216\n",
      "\n",
      "LICEO EL ENCUENTRO\n",
      "No. Estudiantes: 9\n",
      "promedio: 3.087878787878788\n",
      "\n",
      "GIMNASIO CAMPESTRE\n",
      "No. Estudiantes: 1\n",
      "promedio: 4.863636363636363\n",
      "\n",
      "GIMNASIO FEMENINO\n",
      "No. Estudiantes: 5\n",
      "promedio: 3.8472727272727267\n",
      "\n",
      "THE ENGLISH SCHOOL\n",
      "No. Estudiantes: 5\n",
      "promedio: 3.2272727272727275\n",
      "\n",
      "IED CASTILLA\n",
      "No. Estudiantes: 4\n",
      "promedio: 3.5795454545454546\n",
      "\n",
      "COLEGIO BACHILLERATO PATRIA\n",
      "No. Estudiantes: 6\n",
      "promedio: 2.8257575757575757\n",
      "\n"
     ]
    }
   ],
   "source": [
    "schools = []\n",
    "for i in range(len(data)):\n",
    "    schools.append(data.loc[i, 'COLEGIO'])\n",
    "schools = list(set(schools))\n",
    "\n",
    "def ranges_per_school(data):\n",
    "    for i in schools:\n",
    "\n",
    "        grades = []\n",
    "\n",
    "        dat = data.query(\"COLEGIO == '\"+i+\"'\")\n",
    "        for index in dat.index:\n",
    "            grades.append(float(dat.loc[index, 'final_numerator'])/float(dat.loc[index, 'final_denominator']))\n",
    "        print(i)\n",
    "        print(\"No. Estudiantes: \"+str(len(dat)))\n",
    "        print(\"promedio: \"+str(sum(grades)/len(grades)))\n",
    "        print(\"\")\n",
    "        \n",
    "    pass\n",
    "\n",
    "ranges_per_school(data)"
   ]
  },
  {
   "cell_type": "markdown",
   "metadata": {},
   "source": [
    "# Gender Distribution for schools."
   ]
  },
  {
   "cell_type": "code",
   "execution_count": 83,
   "metadata": {},
   "outputs": [
    {
     "name": "stdout",
     "output_type": "stream",
     "text": [
      "SCHOOL: COLEGIO ANGLO COLOMBIANO\n",
      "FEMALE PERCENTAGE: 40.0%\n",
      "MALE PERCENTAGE: 60.0%\n",
      "SCHOOL: COLEGIO NAVAL SANTAFÉ DE BOGOTÁ\n",
      "FEMALE PERCENTAGE: 25.0%\n",
      "MALE PERCENTAGE: 75.0%\n",
      "SCHOOL: COLEGIO CRISTIANO GRACIA Y AMOR\n",
      "FEMALE PERCENTAGE: 40.0%\n",
      "MALE PERCENTAGE: 60.0%\n",
      "SCHOOL: COLEGIO CRISTIANO SEMILLA DE VIDA \n",
      "FEMALE PERCENTAGE: 40.0%\n",
      "MALE PERCENTAGE: 60.0%\n",
      "SCHOOL: COLEGIO SANTA FRANCISCA ROMANA\n",
      "FEMALE PERCENTAGE: 100.0%\n",
      "MALE PERCENTAGE: 0.0%\n",
      "SCHOOL: GIMNASIO CAMPESTRE BETH SHALOM \n",
      "FEMALE PERCENTAGE: 0.0%\n",
      "MALE PERCENTAGE: 100.0%\n",
      "SCHOOL: SAN JOSE I E D \n",
      "FEMALE PERCENTAGE: 100.0%\n",
      "MALE PERCENTAGE: 0.0%\n",
      "SCHOOL: GIMNASIO MODERNO\n",
      "FEMALE PERCENTAGE: 0.0%\n",
      "MALE PERCENTAGE: 100.0%\n",
      "SCHOOL: GIMNASIO CAMPESTRE LOS SAUCES\n",
      "FEMALE PERCENTAGE: 60.0%\n",
      "MALE PERCENTAGE: 40.0%\n",
      "SCHOOL: PATRIA\n",
      "FEMALE PERCENTAGE: 0.0%\n",
      "MALE PERCENTAGE: 100.0%\n",
      "SCHOOL: COLEGIO HELADIA MEJIA I.E.D.\n",
      "FEMALE PERCENTAGE: 50.0%\n",
      "MALE PERCENTAGE: 50.0%\n",
      "SCHOOL: LICEO EL ENCUENTRO\n",
      "FEMALE PERCENTAGE: 55.55555555555556%\n",
      "MALE PERCENTAGE: 44.44444444444444%\n",
      "SCHOOL: GIMNASIO CAMPESTRE\n",
      "FEMALE PERCENTAGE: 0.0%\n",
      "MALE PERCENTAGE: 100.0%\n",
      "SCHOOL: GIMNASIO FEMENINO\n",
      "FEMALE PERCENTAGE: 100.0%\n",
      "MALE PERCENTAGE: 0.0%\n",
      "SCHOOL: THE ENGLISH SCHOOL\n",
      "FEMALE PERCENTAGE: 60.0%\n",
      "MALE PERCENTAGE: 40.0%\n",
      "SCHOOL: IED CASTILLA\n",
      "FEMALE PERCENTAGE: 50.0%\n",
      "MALE PERCENTAGE: 50.0%\n",
      "SCHOOL: COLEGIO BACHILLERATO PATRIA\n",
      "FEMALE PERCENTAGE: 66.66666666666666%\n",
      "MALE PERCENTAGE: 33.33333333333333%\n"
     ]
    }
   ],
   "source": [
    "schools = []\n",
    "for i in range(len(data)):\n",
    "    schools.append(data.loc[i, 'COLEGIO'])\n",
    "schools = list(set(schools))\n",
    "\n",
    "def school_gender_dist(data):\n",
    "    for i in schools:\n",
    "\n",
    "        dat = data.query(\"COLEGIO == '\"+i+\"'\")\n",
    "        dat_male = dat.query(\"GENERO == 'H'\")\n",
    "        dat_female = dat.query(\"GENERO == 'M'\")\n",
    "        print(\"SCHOOL: \"+i)\n",
    "        print(\"FEMALE PERCENTAGE: \"+(str((len(dat_female)/len(dat))*100))+\"%\")\n",
    "        print(\"MALE PERCENTAGE: \"+(str((len(dat_male)/len(dat))*100))+\"%\")\n",
    "\n",
    "\n",
    "school_gender_dist(data)"
   ]
  },
  {
   "cell_type": "markdown",
   "metadata": {},
   "source": [
    "# Submission rates per school"
   ]
  },
  {
   "cell_type": "code",
   "execution_count": 85,
   "metadata": {},
   "outputs": [
    {
     "name": "stdout",
     "output_type": "stream",
     "text": [
      "--RANGES FORCOLEGIO ANGLO COLOMBIANO--\n",
      "5: Perfect implementation.- 9.090909090909092%\n",
      "3.5 - 4.9: Functional implementation with small problems.- 0.0%\n",
      "0.1 - 3.4: Implementation with serious problems (not working).- 9.090909090909092%\n",
      "0: Did not submit the work.81.81818181818183%\n",
      "--RANGES FORCOLEGIO ANGLO COLOMBIANO--\n",
      "5: Perfect implementation.- 50.0%\n",
      "3.5 - 4.9: Functional implementation with small problems.- 0.0%\n",
      "0.1 - 3.4: Implementation with serious problems (not working).- 4.545454545454546%\n",
      "0: Did not submit the work.45.45454545454545%\n",
      "--RANGES FORCOLEGIO ANGLO COLOMBIANO--\n",
      "5: Perfect implementation.- 42.42424242424242%\n",
      "3.5 - 4.9: Functional implementation with small problems.- 15.151515151515152%\n",
      "0.1 - 3.4: Implementation with serious problems (not working).- 3.0303030303030303%\n",
      "0: Did not submit the work.39.39393939393939%\n",
      "--RANGES FORCOLEGIO ANGLO COLOMBIANO--\n",
      "5: Perfect implementation.- 40.909090909090914%\n",
      "3.5 - 4.9: Functional implementation with small problems.- 13.636363636363635%\n",
      "0.1 - 3.4: Implementation with serious problems (not working).- 2.272727272727273%\n",
      "0: Did not submit the work.43.18181818181818%\n",
      "--RANGES FORCOLEGIO ANGLO COLOMBIANO--\n",
      "5: Perfect implementation.- 52.72727272727272%\n",
      "3.5 - 4.9: Functional implementation with small problems.- 10.909090909090908%\n",
      "0.1 - 3.4: Implementation with serious problems (not working).- 1.8181818181818181%\n",
      "0: Did not submit the work.34.54545454545455%\n",
      "--RANGES FORCOLEGIO ANGLO COLOMBIANO--\n",
      "5: Perfect implementation.- 51.515151515151516%\n",
      "3.5 - 4.9: Functional implementation with small problems.- 9.090909090909092%\n",
      "0.1 - 3.4: Implementation with serious problems (not working).- 1.5151515151515151%\n",
      "0: Did not submit the work.37.878787878787875%\n",
      "--RANGES FORCOLEGIO ANGLO COLOMBIANO--\n",
      "5: Perfect implementation.- 49.35064935064935%\n",
      "3.5 - 4.9: Functional implementation with small problems.- 9.090909090909092%\n",
      "0.1 - 3.4: Implementation with serious problems (not working).- 1.2987012987012987%\n",
      "0: Did not submit the work.40.25974025974026%\n",
      "--RANGES FORCOLEGIO ANGLO COLOMBIANO--\n",
      "5: Perfect implementation.- 54.54545454545454%\n",
      "3.5 - 4.9: Functional implementation with small problems.- 7.954545454545454%\n",
      "0.1 - 3.4: Implementation with serious problems (not working).- 1.1363636363636365%\n",
      "0: Did not submit the work.36.36363636363637%\n",
      "--RANGES FORCOLEGIO ANGLO COLOMBIANO--\n",
      "5: Perfect implementation.- 59.59595959595959%\n",
      "3.5 - 4.9: Functional implementation with small problems.- 7.07070707070707%\n",
      "0.1 - 3.4: Implementation with serious problems (not working).- 1.0101010101010102%\n",
      "0: Did not submit the work.32.323232323232325%\n",
      "--RANGES FORCOLEGIO ANGLO COLOMBIANO--\n",
      "5: Perfect implementation.- 60.909090909090914%\n",
      "3.5 - 4.9: Functional implementation with small problems.- 6.363636363636363%\n",
      "0.1 - 3.4: Implementation with serious problems (not working).- 0.9090909090909091%\n",
      "0: Did not submit the work.31.818181818181817%\n",
      "--RANGES FORCOLEGIO NAVAL SANTAFÉ DE BOGOTÁ--\n",
      "5: Perfect implementation.- 81.81818181818183%\n",
      "3.5 - 4.9: Functional implementation with small problems.- 9.090909090909092%\n",
      "0.1 - 3.4: Implementation with serious problems (not working).- 0.0%\n",
      "0: Did not submit the work.9.090909090909092%\n",
      "--RANGES FORCOLEGIO NAVAL SANTAFÉ DE BOGOTÁ--\n",
      "5: Perfect implementation.- 72.72727272727273%\n",
      "3.5 - 4.9: Functional implementation with small problems.- 9.090909090909092%\n",
      "0.1 - 3.4: Implementation with serious problems (not working).- 0.0%\n",
      "0: Did not submit the work.18.181818181818183%\n",
      "--RANGES FORCOLEGIO NAVAL SANTAFÉ DE BOGOTÁ--\n",
      "5: Perfect implementation.- 63.63636363636363%\n",
      "3.5 - 4.9: Functional implementation with small problems.- 6.0606060606060606%\n",
      "0.1 - 3.4: Implementation with serious problems (not working).- 0.0%\n",
      "0: Did not submit the work.30.303030303030305%\n",
      "--RANGES FORCOLEGIO NAVAL SANTAFÉ DE BOGOTÁ--\n",
      "5: Perfect implementation.- 61.36363636363637%\n",
      "3.5 - 4.9: Functional implementation with small problems.- 9.090909090909092%\n",
      "0.1 - 3.4: Implementation with serious problems (not working).- 0.0%\n",
      "0: Did not submit the work.29.545454545454547%\n",
      "--RANGES FORCOLEGIO NAVAL SANTAFÉ DE BOGOTÁ--\n",
      "5: Perfect implementation.- 50.90909090909091%\n",
      "3.5 - 4.9: Functional implementation with small problems.- 10.909090909090908%\n",
      "0.1 - 3.4: Implementation with serious problems (not working).- 5.454545454545454%\n",
      "0: Did not submit the work.32.72727272727273%\n",
      "--RANGES FORCOLEGIO NAVAL SANTAFÉ DE BOGOTÁ--\n",
      "5: Perfect implementation.- 42.42424242424242%\n",
      "3.5 - 4.9: Functional implementation with small problems.- 9.090909090909092%\n",
      "0.1 - 3.4: Implementation with serious problems (not working).- 4.545454545454546%\n",
      "0: Did not submit the work.43.93939393939394%\n",
      "--RANGES FORCOLEGIO NAVAL SANTAFÉ DE BOGOTÁ--\n",
      "5: Perfect implementation.- 36.36363636363637%\n",
      "3.5 - 4.9: Functional implementation with small problems.- 7.792207792207792%\n",
      "0.1 - 3.4: Implementation with serious problems (not working).- 3.896103896103896%\n",
      "0: Did not submit the work.51.94805194805194%\n",
      "--RANGES FORCOLEGIO NAVAL SANTAFÉ DE BOGOTÁ--\n",
      "5: Perfect implementation.- 43.18181818181818%\n",
      "3.5 - 4.9: Functional implementation with small problems.- 6.8181818181818175%\n",
      "0.1 - 3.4: Implementation with serious problems (not working).- 3.4090909090909087%\n",
      "0: Did not submit the work.46.590909090909086%\n",
      "--RANGES FORCOLEGIO CRISTIANO GRACIA Y AMOR--\n",
      "5: Perfect implementation.- 90.9090909090909%\n",
      "3.5 - 4.9: Functional implementation with small problems.- 0.0%\n",
      "0.1 - 3.4: Implementation with serious problems (not working).- 9.090909090909092%\n",
      "0: Did not submit the work.0.0%\n",
      "--RANGES FORCOLEGIO CRISTIANO GRACIA Y AMOR--\n",
      "5: Perfect implementation.- 72.72727272727273%\n",
      "3.5 - 4.9: Functional implementation with small problems.- 0.0%\n",
      "0.1 - 3.4: Implementation with serious problems (not working).- 4.545454545454546%\n",
      "0: Did not submit the work.22.727272727272727%\n",
      "--RANGES FORCOLEGIO CRISTIANO GRACIA Y AMOR--\n",
      "5: Perfect implementation.- 72.72727272727273%\n",
      "3.5 - 4.9: Functional implementation with small problems.- 0.0%\n",
      "0.1 - 3.4: Implementation with serious problems (not working).- 3.0303030303030303%\n",
      "0: Did not submit the work.24.242424242424242%\n",
      "--RANGES FORCOLEGIO CRISTIANO GRACIA Y AMOR--\n",
      "5: Perfect implementation.- 77.27272727272727%\n",
      "3.5 - 4.9: Functional implementation with small problems.- 0.0%\n",
      "0.1 - 3.4: Implementation with serious problems (not working).- 2.272727272727273%\n",
      "0: Did not submit the work.20.454545454545457%\n",
      "--RANGES FORCOLEGIO CRISTIANO GRACIA Y AMOR--\n",
      "5: Perfect implementation.- 76.36363636363637%\n",
      "3.5 - 4.9: Functional implementation with small problems.- 5.454545454545454%\n",
      "0.1 - 3.4: Implementation with serious problems (not working).- 1.8181818181818181%\n",
      "0: Did not submit the work.16.363636363636363%\n",
      "--RANGES FORCOLEGIO CRISTIANO SEMILLA DE VIDA --\n",
      "5: Perfect implementation.- 63.63636363636363%\n",
      "3.5 - 4.9: Functional implementation with small problems.- 0.0%\n",
      "0.1 - 3.4: Implementation with serious problems (not working).- 18.181818181818183%\n",
      "0: Did not submit the work.18.181818181818183%\n",
      "--RANGES FORCOLEGIO CRISTIANO SEMILLA DE VIDA --\n",
      "5: Perfect implementation.- 63.63636363636363%\n",
      "3.5 - 4.9: Functional implementation with small problems.- 4.545454545454546%\n",
      "0.1 - 3.4: Implementation with serious problems (not working).- 9.090909090909092%\n",
      "0: Did not submit the work.22.727272727272727%\n",
      "--RANGES FORCOLEGIO CRISTIANO SEMILLA DE VIDA --\n",
      "5: Perfect implementation.- 72.72727272727273%\n",
      "3.5 - 4.9: Functional implementation with small problems.- 6.0606060606060606%\n",
      "0.1 - 3.4: Implementation with serious problems (not working).- 6.0606060606060606%\n",
      "0: Did not submit the work.15.151515151515152%\n",
      "--RANGES FORCOLEGIO CRISTIANO SEMILLA DE VIDA --\n",
      "5: Perfect implementation.- 70.45454545454545%\n",
      "3.5 - 4.9: Functional implementation with small problems.- 6.8181818181818175%\n",
      "0.1 - 3.4: Implementation with serious problems (not working).- 4.545454545454546%\n",
      "0: Did not submit the work.18.181818181818183%\n",
      "--RANGES FORCOLEGIO CRISTIANO SEMILLA DE VIDA --\n",
      "5: Perfect implementation.- 65.45454545454545%\n",
      "3.5 - 4.9: Functional implementation with small problems.- 5.454545454545454%\n",
      "0.1 - 3.4: Implementation with serious problems (not working).- 3.6363636363636362%\n",
      "0: Did not submit the work.25.454545454545453%\n",
      "--RANGES FORCOLEGIO CRISTIANO SEMILLA DE VIDA --\n",
      "5: Perfect implementation.- 71.21212121212122%\n",
      "3.5 - 4.9: Functional implementation with small problems.- 4.545454545454546%\n",
      "0.1 - 3.4: Implementation with serious problems (not working).- 3.0303030303030303%\n",
      "0: Did not submit the work.21.21212121212121%\n",
      "--RANGES FORCOLEGIO CRISTIANO SEMILLA DE VIDA --\n",
      "5: Perfect implementation.- 72.72727272727273%\n",
      "3.5 - 4.9: Functional implementation with small problems.- 5.194805194805195%\n",
      "0.1 - 3.4: Implementation with serious problems (not working).- 2.5974025974025974%\n",
      "0: Did not submit the work.19.480519480519483%\n",
      "--RANGES FORCOLEGIO CRISTIANO SEMILLA DE VIDA --\n",
      "5: Perfect implementation.- 71.5909090909091%\n",
      "3.5 - 4.9: Functional implementation with small problems.- 6.8181818181818175%\n",
      "0.1 - 3.4: Implementation with serious problems (not working).- 3.4090909090909087%\n",
      "0: Did not submit the work.18.181818181818183%\n",
      "--RANGES FORCOLEGIO CRISTIANO SEMILLA DE VIDA --\n",
      "5: Perfect implementation.- 71.71717171717171%\n",
      "3.5 - 4.9: Functional implementation with small problems.- 7.07070707070707%\n",
      "0.1 - 3.4: Implementation with serious problems (not working).- 3.0303030303030303%\n",
      "0: Did not submit the work.18.181818181818183%\n",
      "--RANGES FORCOLEGIO CRISTIANO SEMILLA DE VIDA --\n",
      "5: Perfect implementation.- 68.18181818181817%\n",
      "3.5 - 4.9: Functional implementation with small problems.- 6.363636363636363%\n",
      "0.1 - 3.4: Implementation with serious problems (not working).- 4.545454545454546%\n",
      "0: Did not submit the work.20.909090909090907%\n",
      "--RANGES FORCOLEGIO SANTA FRANCISCA ROMANA--\n",
      "5: Perfect implementation.- 63.63636363636363%\n",
      "3.5 - 4.9: Functional implementation with small problems.- 0.0%\n",
      "0.1 - 3.4: Implementation with serious problems (not working).- 0.0%\n",
      "0: Did not submit the work.36.36363636363637%\n",
      "--RANGES FORCOLEGIO SANTA FRANCISCA ROMANA--\n",
      "5: Perfect implementation.- 54.54545454545454%\n",
      "3.5 - 4.9: Functional implementation with small problems.- 9.090909090909092%\n",
      "0.1 - 3.4: Implementation with serious problems (not working).- 0.0%\n",
      "0: Did not submit the work.36.36363636363637%\n",
      "--RANGES FORCOLEGIO SANTA FRANCISCA ROMANA--\n",
      "5: Perfect implementation.- 60.60606060606061%\n",
      "3.5 - 4.9: Functional implementation with small problems.- 12.121212121212121%\n",
      "0.1 - 3.4: Implementation with serious problems (not working).- 0.0%\n",
      "0: Did not submit the work.27.27272727272727%\n",
      "--RANGES FORCOLEGIO SANTA FRANCISCA ROMANA--\n",
      "5: Perfect implementation.- 59.09090909090909%\n",
      "3.5 - 4.9: Functional implementation with small problems.- 9.090909090909092%\n",
      "0.1 - 3.4: Implementation with serious problems (not working).- 0.0%\n",
      "0: Did not submit the work.31.818181818181817%\n",
      "--RANGES FORCOLEGIO SANTA FRANCISCA ROMANA--\n",
      "5: Perfect implementation.- 58.18181818181818%\n",
      "3.5 - 4.9: Functional implementation with small problems.- 7.2727272727272725%\n",
      "0.1 - 3.4: Implementation with serious problems (not working).- 0.0%\n",
      "0: Did not submit the work.34.54545454545455%\n",
      "--RANGES FORGIMNASIO CAMPESTRE BETH SHALOM --\n",
      "5: Perfect implementation.- 90.9090909090909%\n",
      "3.5 - 4.9: Functional implementation with small problems.- 0.0%\n",
      "0.1 - 3.4: Implementation with serious problems (not working).- 0.0%\n",
      "0: Did not submit the work.9.090909090909092%\n",
      "--RANGES FORGIMNASIO CAMPESTRE BETH SHALOM --\n",
      "5: Perfect implementation.- 63.63636363636363%\n",
      "3.5 - 4.9: Functional implementation with small problems.- 18.181818181818183%\n",
      "0.1 - 3.4: Implementation with serious problems (not working).- 0.0%\n",
      "0: Did not submit the work.18.181818181818183%\n",
      "--RANGES FORGIMNASIO CAMPESTRE BETH SHALOM --\n",
      "5: Perfect implementation.- 69.6969696969697%\n",
      "3.5 - 4.9: Functional implementation with small problems.- 12.121212121212121%\n",
      "0.1 - 3.4: Implementation with serious problems (not working).- 0.0%\n",
      "0: Did not submit the work.18.181818181818183%\n",
      "--RANGES FORGIMNASIO CAMPESTRE BETH SHALOM --\n",
      "5: Perfect implementation.- 52.27272727272727%\n",
      "3.5 - 4.9: Functional implementation with small problems.- 9.090909090909092%\n",
      "0.1 - 3.4: Implementation with serious problems (not working).- 0.0%\n",
      "0: Did not submit the work.38.63636363636363%\n",
      "--RANGES FORSAN JOSE I E D --\n",
      "5: Perfect implementation.- 63.63636363636363%\n",
      "3.5 - 4.9: Functional implementation with small problems.- 9.090909090909092%\n",
      "0.1 - 3.4: Implementation with serious problems (not working).- 0.0%\n",
      "0: Did not submit the work.27.27272727272727%\n",
      "--RANGES FORSAN JOSE I E D --\n",
      "5: Perfect implementation.- 68.18181818181817%\n",
      "3.5 - 4.9: Functional implementation with small problems.- 4.545454545454546%\n",
      "0.1 - 3.4: Implementation with serious problems (not working).- 0.0%\n",
      "0: Did not submit the work.27.27272727272727%\n",
      "--RANGES FORSAN JOSE I E D --\n",
      "5: Perfect implementation.- 57.57575757575758%\n",
      "3.5 - 4.9: Functional implementation with small problems.- 6.0606060606060606%\n",
      "0.1 - 3.4: Implementation with serious problems (not working).- 12.121212121212121%\n",
      "0: Did not submit the work.24.242424242424242%\n",
      "--RANGES FORSAN JOSE I E D --\n",
      "5: Perfect implementation.- 52.27272727272727%\n",
      "3.5 - 4.9: Functional implementation with small problems.- 9.090909090909092%\n",
      "0.1 - 3.4: Implementation with serious problems (not working).- 11.363636363636363%\n",
      "0: Did not submit the work.27.27272727272727%\n",
      "--RANGES FORGIMNASIO MODERNO--\n",
      "5: Perfect implementation.- 100.0%\n",
      "3.5 - 4.9: Functional implementation with small problems.- 0.0%\n",
      "0.1 - 3.4: Implementation with serious problems (not working).- 0.0%\n",
      "0: Did not submit the work.0.0%\n",
      "--RANGES FORGIMNASIO MODERNO--\n",
      "5: Perfect implementation.- 68.18181818181817%\n",
      "3.5 - 4.9: Functional implementation with small problems.- 18.181818181818183%\n",
      "0.1 - 3.4: Implementation with serious problems (not working).- 0.0%\n",
      "0: Did not submit the work.13.636363636363635%\n",
      "--RANGES FORGIMNASIO MODERNO--\n",
      "5: Perfect implementation.- 78.78787878787878%\n",
      "3.5 - 4.9: Functional implementation with small problems.- 12.121212121212121%\n",
      "0.1 - 3.4: Implementation with serious problems (not working).- 0.0%\n",
      "0: Did not submit the work.9.090909090909092%\n",
      "--RANGES FORGIMNASIO CAMPESTRE LOS SAUCES--\n",
      "5: Perfect implementation.- 81.81818181818183%\n",
      "3.5 - 4.9: Functional implementation with small problems.- 9.090909090909092%\n",
      "0.1 - 3.4: Implementation with serious problems (not working).- 0.0%\n",
      "0: Did not submit the work.9.090909090909092%\n",
      "--RANGES FORGIMNASIO CAMPESTRE LOS SAUCES--\n",
      "5: Perfect implementation.- 86.36363636363636%\n",
      "3.5 - 4.9: Functional implementation with small problems.- 4.545454545454546%\n",
      "0.1 - 3.4: Implementation with serious problems (not working).- 4.545454545454546%\n",
      "0: Did not submit the work.4.545454545454546%\n",
      "--RANGES FORGIMNASIO CAMPESTRE LOS SAUCES--\n",
      "5: Perfect implementation.- 63.63636363636363%\n",
      "3.5 - 4.9: Functional implementation with small problems.- 6.0606060606060606%\n",
      "0.1 - 3.4: Implementation with serious problems (not working).- 12.121212121212121%\n",
      "0: Did not submit the work.18.181818181818183%\n",
      "--RANGES FORGIMNASIO CAMPESTRE LOS SAUCES--\n",
      "5: Perfect implementation.- 63.63636363636363%\n",
      "3.5 - 4.9: Functional implementation with small problems.- 4.545454545454546%\n",
      "0.1 - 3.4: Implementation with serious problems (not working).- 13.636363636363635%\n",
      "0: Did not submit the work.18.181818181818183%\n",
      "--RANGES FORGIMNASIO CAMPESTRE LOS SAUCES--\n",
      "5: Perfect implementation.- 58.18181818181818%\n",
      "3.5 - 4.9: Functional implementation with small problems.- 3.6363636363636362%\n",
      "0.1 - 3.4: Implementation with serious problems (not working).- 10.909090909090908%\n",
      "0: Did not submit the work.27.27272727272727%\n",
      "--RANGES FORPATRIA--\n",
      "5: Perfect implementation.- 0.0%\n",
      "3.5 - 4.9: Functional implementation with small problems.- 0.0%\n",
      "0.1 - 3.4: Implementation with serious problems (not working).- 0.0%\n",
      "0: Did not submit the work.100.0%\n",
      "--RANGES FORCOLEGIO HELADIA MEJIA I.E.D.--\n",
      "5: Perfect implementation.- 18.181818181818183%\n",
      "3.5 - 4.9: Functional implementation with small problems.- 9.090909090909092%\n",
      "0.1 - 3.4: Implementation with serious problems (not working).- 18.181818181818183%\n",
      "0: Did not submit the work.54.54545454545454%\n",
      "--RANGES FORCOLEGIO HELADIA MEJIA I.E.D.--\n",
      "5: Perfect implementation.- 36.36363636363637%\n",
      "3.5 - 4.9: Functional implementation with small problems.- 22.727272727272727%\n",
      "0.1 - 3.4: Implementation with serious problems (not working).- 9.090909090909092%\n",
      "0: Did not submit the work.31.818181818181817%\n",
      "--RANGES FORCOLEGIO HELADIA MEJIA I.E.D.--\n",
      "5: Perfect implementation.- 48.484848484848484%\n",
      "3.5 - 4.9: Functional implementation with small problems.- 15.151515151515152%\n",
      "0.1 - 3.4: Implementation with serious problems (not working).- 6.0606060606060606%\n",
      "0: Did not submit the work.30.303030303030305%\n",
      "--RANGES FORCOLEGIO HELADIA MEJIA I.E.D.--\n",
      "5: Perfect implementation.- 56.81818181818182%\n",
      "3.5 - 4.9: Functional implementation with small problems.- 13.636363636363635%\n",
      "0.1 - 3.4: Implementation with serious problems (not working).- 6.8181818181818175%\n",
      "0: Did not submit the work.22.727272727272727%\n",
      "--RANGES FORCOLEGIO HELADIA MEJIA I.E.D.--\n",
      "5: Perfect implementation.- 56.36363636363636%\n",
      "3.5 - 4.9: Functional implementation with small problems.- 12.727272727272727%\n",
      "0.1 - 3.4: Implementation with serious problems (not working).- 9.090909090909092%\n",
      "0: Did not submit the work.21.818181818181817%\n",
      "--RANGES FORCOLEGIO HELADIA MEJIA I.E.D.--\n",
      "5: Perfect implementation.- 62.121212121212125%\n",
      "3.5 - 4.9: Functional implementation with small problems.- 10.606060606060606%\n",
      "0.1 - 3.4: Implementation with serious problems (not working).- 7.575757575757576%\n",
      "0: Did not submit the work.19.696969696969695%\n",
      "--RANGES FORCOLEGIO HELADIA MEJIA I.E.D.--\n",
      "5: Perfect implementation.- 59.74025974025974%\n",
      "3.5 - 4.9: Functional implementation with small problems.- 12.987012987012985%\n",
      "0.1 - 3.4: Implementation with serious problems (not working).- 7.792207792207792%\n",
      "0: Did not submit the work.19.480519480519483%\n",
      "--RANGES FORCOLEGIO HELADIA MEJIA I.E.D.--\n",
      "5: Perfect implementation.- 55.68181818181818%\n",
      "3.5 - 4.9: Functional implementation with small problems.- 12.5%\n",
      "0.1 - 3.4: Implementation with serious problems (not working).- 9.090909090909092%\n",
      "0: Did not submit the work.22.727272727272727%\n",
      "--RANGES FORCOLEGIO HELADIA MEJIA I.E.D.--\n",
      "5: Perfect implementation.- 58.58585858585859%\n",
      "3.5 - 4.9: Functional implementation with small problems.- 11.11111111111111%\n",
      "0.1 - 3.4: Implementation with serious problems (not working).- 8.080808080808081%\n",
      "0: Did not submit the work.22.22222222222222%\n",
      "--RANGES FORCOLEGIO HELADIA MEJIA I.E.D.--\n",
      "5: Perfect implementation.- 60.0%\n",
      "3.5 - 4.9: Functional implementation with small problems.- 10.909090909090908%\n",
      "0.1 - 3.4: Implementation with serious problems (not working).- 7.2727272727272725%\n",
      "0: Did not submit the work.21.818181818181817%\n",
      "--RANGES FORCOLEGIO HELADIA MEJIA I.E.D.--\n",
      "5: Perfect implementation.- 54.54545454545454%\n",
      "3.5 - 4.9: Functional implementation with small problems.- 9.917355371900827%\n",
      "0.1 - 3.4: Implementation with serious problems (not working).- 6.6115702479338845%\n",
      "0: Did not submit the work.28.92561983471074%\n",
      "--RANGES FORCOLEGIO HELADIA MEJIA I.E.D.--\n",
      "5: Perfect implementation.- 54.54545454545454%\n",
      "3.5 - 4.9: Functional implementation with small problems.- 10.606060606060606%\n",
      "0.1 - 3.4: Implementation with serious problems (not working).- 6.0606060606060606%\n",
      "0: Did not submit the work.28.78787878787879%\n",
      "--RANGES FORCOLEGIO HELADIA MEJIA I.E.D.--\n",
      "5: Perfect implementation.- 54.54545454545454%\n",
      "3.5 - 4.9: Functional implementation with small problems.- 11.188811188811188%\n",
      "0.1 - 3.4: Implementation with serious problems (not working).- 5.594405594405594%\n",
      "0: Did not submit the work.28.671328671328673%\n",
      "--RANGES FORCOLEGIO HELADIA MEJIA I.E.D.--\n",
      "5: Perfect implementation.- 55.1948051948052%\n",
      "3.5 - 4.9: Functional implementation with small problems.- 12.337662337662337%\n",
      "0.1 - 3.4: Implementation with serious problems (not working).- 5.844155844155844%\n",
      "0: Did not submit the work.26.623376623376622%\n",
      "--RANGES FORLICEO EL ENCUENTRO--\n",
      "5: Perfect implementation.- 45.45454545454545%\n",
      "3.5 - 4.9: Functional implementation with small problems.- 18.181818181818183%\n",
      "0.1 - 3.4: Implementation with serious problems (not working).- 0.0%\n",
      "0: Did not submit the work.36.36363636363637%\n",
      "--RANGES FORLICEO EL ENCUENTRO--\n",
      "5: Perfect implementation.- 22.727272727272727%\n",
      "3.5 - 4.9: Functional implementation with small problems.- 9.090909090909092%\n",
      "0.1 - 3.4: Implementation with serious problems (not working).- 0.0%\n",
      "0: Did not submit the work.68.18181818181817%\n",
      "--RANGES FORLICEO EL ENCUENTRO--\n",
      "5: Perfect implementation.- 30.303030303030305%\n",
      "3.5 - 4.9: Functional implementation with small problems.- 6.0606060606060606%\n",
      "0.1 - 3.4: Implementation with serious problems (not working).- 9.090909090909092%\n",
      "0: Did not submit the work.54.54545454545454%\n",
      "--RANGES FORLICEO EL ENCUENTRO--\n",
      "5: Perfect implementation.- 22.727272727272727%\n",
      "3.5 - 4.9: Functional implementation with small problems.- 4.545454545454546%\n",
      "0.1 - 3.4: Implementation with serious problems (not working).- 6.8181818181818175%\n",
      "0: Did not submit the work.65.9090909090909%\n",
      "--RANGES FORLICEO EL ENCUENTRO--\n",
      "5: Perfect implementation.- 36.36363636363637%\n",
      "3.5 - 4.9: Functional implementation with small problems.- 3.6363636363636362%\n",
      "0.1 - 3.4: Implementation with serious problems (not working).- 5.454545454545454%\n",
      "0: Did not submit the work.54.54545454545454%\n",
      "--RANGES FORLICEO EL ENCUENTRO--\n",
      "5: Perfect implementation.- 40.909090909090914%\n",
      "3.5 - 4.9: Functional implementation with small problems.- 7.575757575757576%\n",
      "0.1 - 3.4: Implementation with serious problems (not working).- 4.545454545454546%\n",
      "0: Did not submit the work.46.96969696969697%\n",
      "--RANGES FORLICEO EL ENCUENTRO--\n",
      "5: Perfect implementation.- 45.45454545454545%\n",
      "3.5 - 4.9: Functional implementation with small problems.- 6.493506493506493%\n",
      "0.1 - 3.4: Implementation with serious problems (not working).- 3.896103896103896%\n",
      "0: Did not submit the work.44.15584415584416%\n",
      "--RANGES FORLICEO EL ENCUENTRO--\n",
      "5: Perfect implementation.- 51.13636363636363%\n",
      "3.5 - 4.9: Functional implementation with small problems.- 5.681818181818182%\n",
      "0.1 - 3.4: Implementation with serious problems (not working).- 3.4090909090909087%\n",
      "0: Did not submit the work.39.77272727272727%\n",
      "--RANGES FORLICEO EL ENCUENTRO--\n",
      "5: Perfect implementation.- 54.54545454545454%\n",
      "3.5 - 4.9: Functional implementation with small problems.- 7.07070707070707%\n",
      "0.1 - 3.4: Implementation with serious problems (not working).- 3.0303030303030303%\n",
      "0: Did not submit the work.35.35353535353536%\n",
      "--RANGES FORGIMNASIO CAMPESTRE--\n",
      "5: Perfect implementation.- 90.9090909090909%\n",
      "3.5 - 4.9: Functional implementation with small problems.- 9.090909090909092%\n",
      "0.1 - 3.4: Implementation with serious problems (not working).- 0.0%\n",
      "0: Did not submit the work.0.0%\n",
      "--RANGES FORGIMNASIO FEMENINO--\n",
      "5: Perfect implementation.- 81.81818181818183%\n",
      "3.5 - 4.9: Functional implementation with small problems.- 0.0%\n",
      "0.1 - 3.4: Implementation with serious problems (not working).- 0.0%\n",
      "0: Did not submit the work.18.181818181818183%\n",
      "--RANGES FORGIMNASIO FEMENINO--\n",
      "5: Perfect implementation.- 77.27272727272727%\n",
      "3.5 - 4.9: Functional implementation with small problems.- 4.545454545454546%\n",
      "0.1 - 3.4: Implementation with serious problems (not working).- 0.0%\n",
      "0: Did not submit the work.18.181818181818183%\n",
      "--RANGES FORGIMNASIO FEMENINO--\n",
      "5: Perfect implementation.- 78.78787878787878%\n",
      "3.5 - 4.9: Functional implementation with small problems.- 3.0303030303030303%\n",
      "0.1 - 3.4: Implementation with serious problems (not working).- 0.0%\n",
      "0: Did not submit the work.18.181818181818183%\n",
      "--RANGES FORGIMNASIO FEMENINO--\n",
      "5: Perfect implementation.- 79.54545454545455%\n",
      "3.5 - 4.9: Functional implementation with small problems.- 2.272727272727273%\n",
      "0.1 - 3.4: Implementation with serious problems (not working).- 0.0%\n",
      "0: Did not submit the work.18.181818181818183%\n",
      "--RANGES FORGIMNASIO FEMENINO--\n",
      "5: Perfect implementation.- 72.72727272727273%\n",
      "3.5 - 4.9: Functional implementation with small problems.- 3.6363636363636362%\n",
      "0.1 - 3.4: Implementation with serious problems (not working).- 1.8181818181818181%\n",
      "0: Did not submit the work.21.818181818181817%\n",
      "--RANGES FORTHE ENGLISH SCHOOL--\n",
      "5: Perfect implementation.- 0.0%\n",
      "3.5 - 4.9: Functional implementation with small problems.- 0.0%\n",
      "0.1 - 3.4: Implementation with serious problems (not working).- 0.0%\n",
      "0: Did not submit the work.100.0%\n",
      "--RANGES FORTHE ENGLISH SCHOOL--\n",
      "5: Perfect implementation.- 36.36363636363637%\n",
      "3.5 - 4.9: Functional implementation with small problems.- 4.545454545454546%\n",
      "0.1 - 3.4: Implementation with serious problems (not working).- 0.0%\n",
      "0: Did not submit the work.59.09090909090909%\n",
      "--RANGES FORTHE ENGLISH SCHOOL--\n",
      "5: Perfect implementation.- 54.54545454545454%\n",
      "3.5 - 4.9: Functional implementation with small problems.- 3.0303030303030303%\n",
      "0.1 - 3.4: Implementation with serious problems (not working).- 0.0%\n",
      "0: Did not submit the work.42.42424242424242%\n",
      "--RANGES FORTHE ENGLISH SCHOOL--\n",
      "5: Perfect implementation.- 59.09090909090909%\n",
      "3.5 - 4.9: Functional implementation with small problems.- 2.272727272727273%\n",
      "0.1 - 3.4: Implementation with serious problems (not working).- 0.0%\n",
      "0: Did not submit the work.38.63636363636363%\n",
      "--RANGES FORTHE ENGLISH SCHOOL--\n",
      "5: Perfect implementation.- 58.18181818181818%\n",
      "3.5 - 4.9: Functional implementation with small problems.- 9.090909090909092%\n",
      "0.1 - 3.4: Implementation with serious problems (not working).- 0.0%\n",
      "0: Did not submit the work.32.72727272727273%\n",
      "--RANGES FORIED CASTILLA--\n",
      "5: Perfect implementation.- 54.54545454545454%\n",
      "3.5 - 4.9: Functional implementation with small problems.- 27.27272727272727%\n",
      "0.1 - 3.4: Implementation with serious problems (not working).- 0.0%\n",
      "0: Did not submit the work.18.181818181818183%\n",
      "--RANGES FORIED CASTILLA--\n",
      "5: Perfect implementation.- 72.72727272727273%\n",
      "3.5 - 4.9: Functional implementation with small problems.- 18.181818181818183%\n",
      "0.1 - 3.4: Implementation with serious problems (not working).- 0.0%\n",
      "0: Did not submit the work.9.090909090909092%\n",
      "--RANGES FORIED CASTILLA--\n",
      "5: Perfect implementation.- 69.6969696969697%\n",
      "3.5 - 4.9: Functional implementation with small problems.- 15.151515151515152%\n",
      "0.1 - 3.4: Implementation with serious problems (not working).- 0.0%\n",
      "0: Did not submit the work.15.151515151515152%\n",
      "--RANGES FORIED CASTILLA--\n",
      "5: Perfect implementation.- 63.63636363636363%\n",
      "3.5 - 4.9: Functional implementation with small problems.- 11.363636363636363%\n",
      "0.1 - 3.4: Implementation with serious problems (not working).- 0.0%\n",
      "0: Did not submit the work.25.0%\n",
      "--RANGES FORCOLEGIO BACHILLERATO PATRIA--\n",
      "5: Perfect implementation.- 63.63636363636363%\n",
      "3.5 - 4.9: Functional implementation with small problems.- 27.27272727272727%\n",
      "0.1 - 3.4: Implementation with serious problems (not working).- 0.0%\n",
      "0: Did not submit the work.9.090909090909092%\n",
      "--RANGES FORCOLEGIO BACHILLERATO PATRIA--\n",
      "5: Perfect implementation.- 50.0%\n",
      "3.5 - 4.9: Functional implementation with small problems.- 36.36363636363637%\n",
      "0.1 - 3.4: Implementation with serious problems (not working).- 4.545454545454546%\n",
      "0: Did not submit the work.9.090909090909092%\n",
      "--RANGES FORCOLEGIO BACHILLERATO PATRIA--\n",
      "5: Perfect implementation.- 51.515151515151516%\n",
      "3.5 - 4.9: Functional implementation with small problems.- 27.27272727272727%\n",
      "0.1 - 3.4: Implementation with serious problems (not working).- 3.0303030303030303%\n",
      "0: Did not submit the work.18.181818181818183%\n",
      "--RANGES FORCOLEGIO BACHILLERATO PATRIA--\n",
      "5: Perfect implementation.- 52.27272727272727%\n",
      "3.5 - 4.9: Functional implementation with small problems.- 25.0%\n",
      "0.1 - 3.4: Implementation with serious problems (not working).- 2.272727272727273%\n",
      "0: Did not submit the work.20.454545454545457%\n",
      "--RANGES FORCOLEGIO BACHILLERATO PATRIA--\n",
      "5: Perfect implementation.- 41.81818181818181%\n",
      "3.5 - 4.9: Functional implementation with small problems.- 20.0%\n",
      "0.1 - 3.4: Implementation with serious problems (not working).- 1.8181818181818181%\n",
      "0: Did not submit the work.36.36363636363637%\n",
      "--RANGES FORCOLEGIO BACHILLERATO PATRIA--\n",
      "5: Perfect implementation.- 40.909090909090914%\n",
      "3.5 - 4.9: Functional implementation with small problems.- 16.666666666666664%\n",
      "0.1 - 3.4: Implementation with serious problems (not working).- 6.0606060606060606%\n",
      "0: Did not submit the work.36.36363636363637%\n"
     ]
    }
   ],
   "source": [
    "schools = []\n",
    "for i in range(len(data)):\n",
    "    schools.append(data.loc[i, 'COLEGIO'])\n",
    "schools = list(set(schools))\n",
    "\n",
    "concept_checks = ['1AM','1PM','2AM','2PM','3AM','3PM','4AM','4PM','5AM','5PM','6AM'] \n",
    "\n",
    "\n",
    "def school_submission_rate(data):\n",
    "    for i in schools:\n",
    "        dat = data.query(\"COLEGIO == '\"+i+\"'\")\n",
    "        note_ranges = {\n",
    "        '5: Perfect implementation.':0,\n",
    "        '3.5 - 4.9: Functional implementation with small problems.':0,\n",
    "        '0.1 - 3.4: Implementation with serious problems (not working)':0,\n",
    "        \"0: Did not submit the work.\": 0\n",
    "        }\n",
    "        for index in dat.index:\n",
    "            for concept in concept_checks:\n",
    "                grade = data.loc[index, concept]\n",
    "                if grade == 0:\n",
    "                    note_ranges[\"0: Did not submit the work.\"] += 1\n",
    "                elif grade == 5:\n",
    "                    note_ranges['5: Perfect implementation.'] += 1\n",
    "                elif grade in np.arange(3.5, 5):\n",
    "                    note_ranges['3.5 - 4.9: Functional implementation with small problems.'] += 1\n",
    "                else:\n",
    "                    note_ranges['0.1 - 3.4: Implementation with serious problems (not working)'] += 1\n",
    "            print(\"--RANGES FOR \"+ i +\"--\")\n",
    "            print('5: Perfect implementation.- '+\n",
    "                str((note_ranges['5: Perfect implementation.']/ sum(note_ranges.values()))*100)\n",
    "                +\"%\")\n",
    "            print('3.5 - 4.9: Functional implementation with small problems.- '+\n",
    "                str((note_ranges['3.5 - 4.9: Functional implementation with small problems.']/ sum(note_ranges.values()))*100)\n",
    "                +\"%\")\n",
    "            print('0.1 - 3.4: Implementation with serious problems (not working).- '+\n",
    "                str((note_ranges['0.1 - 3.4: Implementation with serious problems (not working)']/ sum(note_ranges.values()))*100)\n",
    "                +\"%\")\n",
    "            print('0: Did not submit the work.'+\n",
    "                str((note_ranges['0: Did not submit the work.']/ sum(note_ranges.values()))*100)\n",
    "                +\"%\")       \n",
    "\n",
    "school_submission_rate(data)          \n",
    "            "
   ]
  }
 ],
 "metadata": {
  "kernelspec": {
   "display_name": "Python 3.11.0 64-bit",
   "language": "python",
   "name": "python3"
  },
  "language_info": {
   "codemirror_mode": {
    "name": "ipython",
    "version": 3
   },
   "file_extension": ".py",
   "mimetype": "text/x-python",
   "name": "python",
   "nbconvert_exporter": "python",
   "pygments_lexer": "ipython3",
   "version": "3.11.0"
  },
  "orig_nbformat": 4,
  "vscode": {
   "interpreter": {
    "hash": "e7370f93d1d0cde622a1f8e1c04877d8463912d04d973331ad4851f04de6915a"
   }
  }
 },
 "nbformat": 4,
 "nbformat_minor": 2
}
